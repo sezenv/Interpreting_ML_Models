{
  "nbformat": 4,
  "nbformat_minor": 0,
  "metadata": {
    "colab": {
      "name": "Untitled8.ipynb",
      "provenance": [],
      "authorship_tag": "ABX9TyMZilsOXNBMrTcEAE08f32R"
    },
    "kernelspec": {
      "name": "python3",
      "display_name": "Python 3"
    },
    "language_info": {
      "name": "python"
    },
    "widgets": {
      "application/vnd.jupyter.widget-state+json": {
        "4fa5813d9d834caab16b60c3b5e9c4c9": {
          "model_module": "@jupyter-widgets/controls",
          "model_name": "HBoxModel",
          "model_module_version": "1.5.0",
          "state": {
            "_view_name": "HBoxView",
            "_dom_classes": [],
            "_model_name": "HBoxModel",
            "_view_module": "@jupyter-widgets/controls",
            "_model_module_version": "1.5.0",
            "_view_count": null,
            "_view_module_version": "1.5.0",
            "box_style": "",
            "layout": "IPY_MODEL_21a1e90969dc4ff59844138393c92c73",
            "_model_module": "@jupyter-widgets/controls",
            "children": [
              "IPY_MODEL_a935cbf61d974c13a756ba7555dd74ef",
              "IPY_MODEL_2a6c26f8d78a4b689a3c80d62a7e45c5",
              "IPY_MODEL_3ab0628438b94569976e8cb47406d96c"
            ]
          }
        },
        "21a1e90969dc4ff59844138393c92c73": {
          "model_module": "@jupyter-widgets/base",
          "model_name": "LayoutModel",
          "model_module_version": "1.2.0",
          "state": {
            "_view_name": "LayoutView",
            "grid_template_rows": null,
            "right": null,
            "justify_content": null,
            "_view_module": "@jupyter-widgets/base",
            "overflow": null,
            "_model_module_version": "1.2.0",
            "_view_count": null,
            "flex_flow": null,
            "width": null,
            "min_width": null,
            "border": null,
            "align_items": null,
            "bottom": null,
            "_model_module": "@jupyter-widgets/base",
            "top": null,
            "grid_column": null,
            "overflow_y": null,
            "overflow_x": null,
            "grid_auto_flow": null,
            "grid_area": null,
            "grid_template_columns": null,
            "flex": null,
            "_model_name": "LayoutModel",
            "justify_items": null,
            "grid_row": null,
            "max_height": null,
            "align_content": null,
            "visibility": null,
            "align_self": null,
            "height": null,
            "min_height": null,
            "padding": null,
            "grid_auto_rows": null,
            "grid_gap": null,
            "max_width": null,
            "order": null,
            "_view_module_version": "1.2.0",
            "grid_template_areas": null,
            "object_position": null,
            "object_fit": null,
            "grid_auto_columns": null,
            "margin": null,
            "display": null,
            "left": null
          }
        },
        "a935cbf61d974c13a756ba7555dd74ef": {
          "model_module": "@jupyter-widgets/controls",
          "model_name": "HTMLModel",
          "model_module_version": "1.5.0",
          "state": {
            "_view_name": "HTMLView",
            "style": "IPY_MODEL_8d19101e84c441b299cf91b70e6c3639",
            "_dom_classes": [],
            "description": "",
            "_model_name": "HTMLModel",
            "placeholder": "​",
            "_view_module": "@jupyter-widgets/controls",
            "_model_module_version": "1.5.0",
            "value": "100%",
            "_view_count": null,
            "_view_module_version": "1.5.0",
            "description_tooltip": null,
            "_model_module": "@jupyter-widgets/controls",
            "layout": "IPY_MODEL_576cdab668a44e12b53563cbc025a268"
          }
        },
        "2a6c26f8d78a4b689a3c80d62a7e45c5": {
          "model_module": "@jupyter-widgets/controls",
          "model_name": "FloatProgressModel",
          "model_module_version": "1.5.0",
          "state": {
            "_view_name": "ProgressView",
            "style": "IPY_MODEL_ba4f04aaad9e4390b0ad784ffb17b384",
            "_dom_classes": [],
            "description": "",
            "_model_name": "FloatProgressModel",
            "bar_style": "success",
            "max": 6995,
            "_view_module": "@jupyter-widgets/controls",
            "_model_module_version": "1.5.0",
            "value": 6995,
            "_view_count": null,
            "_view_module_version": "1.5.0",
            "orientation": "horizontal",
            "min": 0,
            "description_tooltip": null,
            "_model_module": "@jupyter-widgets/controls",
            "layout": "IPY_MODEL_326a29480d09461daf7f298c86a52792"
          }
        },
        "3ab0628438b94569976e8cb47406d96c": {
          "model_module": "@jupyter-widgets/controls",
          "model_name": "HTMLModel",
          "model_module_version": "1.5.0",
          "state": {
            "_view_name": "HTMLView",
            "style": "IPY_MODEL_2f87e1df3c4a42069bd6b68e7b5f0986",
            "_dom_classes": [],
            "description": "",
            "_model_name": "HTMLModel",
            "placeholder": "​",
            "_view_module": "@jupyter-widgets/controls",
            "_model_module_version": "1.5.0",
            "value": " 6995/6995 [00:00&lt;00:00, 19151.42it/s]",
            "_view_count": null,
            "_view_module_version": "1.5.0",
            "description_tooltip": null,
            "_model_module": "@jupyter-widgets/controls",
            "layout": "IPY_MODEL_7fb1a47013ae4aaa82cb7d5ce2e756bc"
          }
        },
        "8d19101e84c441b299cf91b70e6c3639": {
          "model_module": "@jupyter-widgets/controls",
          "model_name": "DescriptionStyleModel",
          "model_module_version": "1.5.0",
          "state": {
            "_view_name": "StyleView",
            "_model_name": "DescriptionStyleModel",
            "description_width": "",
            "_view_module": "@jupyter-widgets/base",
            "_model_module_version": "1.5.0",
            "_view_count": null,
            "_view_module_version": "1.2.0",
            "_model_module": "@jupyter-widgets/controls"
          }
        },
        "576cdab668a44e12b53563cbc025a268": {
          "model_module": "@jupyter-widgets/base",
          "model_name": "LayoutModel",
          "model_module_version": "1.2.0",
          "state": {
            "_view_name": "LayoutView",
            "grid_template_rows": null,
            "right": null,
            "justify_content": null,
            "_view_module": "@jupyter-widgets/base",
            "overflow": null,
            "_model_module_version": "1.2.0",
            "_view_count": null,
            "flex_flow": null,
            "width": null,
            "min_width": null,
            "border": null,
            "align_items": null,
            "bottom": null,
            "_model_module": "@jupyter-widgets/base",
            "top": null,
            "grid_column": null,
            "overflow_y": null,
            "overflow_x": null,
            "grid_auto_flow": null,
            "grid_area": null,
            "grid_template_columns": null,
            "flex": null,
            "_model_name": "LayoutModel",
            "justify_items": null,
            "grid_row": null,
            "max_height": null,
            "align_content": null,
            "visibility": null,
            "align_self": null,
            "height": null,
            "min_height": null,
            "padding": null,
            "grid_auto_rows": null,
            "grid_gap": null,
            "max_width": null,
            "order": null,
            "_view_module_version": "1.2.0",
            "grid_template_areas": null,
            "object_position": null,
            "object_fit": null,
            "grid_auto_columns": null,
            "margin": null,
            "display": null,
            "left": null
          }
        },
        "ba4f04aaad9e4390b0ad784ffb17b384": {
          "model_module": "@jupyter-widgets/controls",
          "model_name": "ProgressStyleModel",
          "model_module_version": "1.5.0",
          "state": {
            "_view_name": "StyleView",
            "_model_name": "ProgressStyleModel",
            "description_width": "",
            "_view_module": "@jupyter-widgets/base",
            "_model_module_version": "1.5.0",
            "_view_count": null,
            "_view_module_version": "1.2.0",
            "bar_color": null,
            "_model_module": "@jupyter-widgets/controls"
          }
        },
        "326a29480d09461daf7f298c86a52792": {
          "model_module": "@jupyter-widgets/base",
          "model_name": "LayoutModel",
          "model_module_version": "1.2.0",
          "state": {
            "_view_name": "LayoutView",
            "grid_template_rows": null,
            "right": null,
            "justify_content": null,
            "_view_module": "@jupyter-widgets/base",
            "overflow": null,
            "_model_module_version": "1.2.0",
            "_view_count": null,
            "flex_flow": null,
            "width": null,
            "min_width": null,
            "border": null,
            "align_items": null,
            "bottom": null,
            "_model_module": "@jupyter-widgets/base",
            "top": null,
            "grid_column": null,
            "overflow_y": null,
            "overflow_x": null,
            "grid_auto_flow": null,
            "grid_area": null,
            "grid_template_columns": null,
            "flex": null,
            "_model_name": "LayoutModel",
            "justify_items": null,
            "grid_row": null,
            "max_height": null,
            "align_content": null,
            "visibility": null,
            "align_self": null,
            "height": null,
            "min_height": null,
            "padding": null,
            "grid_auto_rows": null,
            "grid_gap": null,
            "max_width": null,
            "order": null,
            "_view_module_version": "1.2.0",
            "grid_template_areas": null,
            "object_position": null,
            "object_fit": null,
            "grid_auto_columns": null,
            "margin": null,
            "display": null,
            "left": null
          }
        },
        "2f87e1df3c4a42069bd6b68e7b5f0986": {
          "model_module": "@jupyter-widgets/controls",
          "model_name": "DescriptionStyleModel",
          "model_module_version": "1.5.0",
          "state": {
            "_view_name": "StyleView",
            "_model_name": "DescriptionStyleModel",
            "description_width": "",
            "_view_module": "@jupyter-widgets/base",
            "_model_module_version": "1.5.0",
            "_view_count": null,
            "_view_module_version": "1.2.0",
            "_model_module": "@jupyter-widgets/controls"
          }
        },
        "7fb1a47013ae4aaa82cb7d5ce2e756bc": {
          "model_module": "@jupyter-widgets/base",
          "model_name": "LayoutModel",
          "model_module_version": "1.2.0",
          "state": {
            "_view_name": "LayoutView",
            "grid_template_rows": null,
            "right": null,
            "justify_content": null,
            "_view_module": "@jupyter-widgets/base",
            "overflow": null,
            "_model_module_version": "1.2.0",
            "_view_count": null,
            "flex_flow": null,
            "width": null,
            "min_width": null,
            "border": null,
            "align_items": null,
            "bottom": null,
            "_model_module": "@jupyter-widgets/base",
            "top": null,
            "grid_column": null,
            "overflow_y": null,
            "overflow_x": null,
            "grid_auto_flow": null,
            "grid_area": null,
            "grid_template_columns": null,
            "flex": null,
            "_model_name": "LayoutModel",
            "justify_items": null,
            "grid_row": null,
            "max_height": null,
            "align_content": null,
            "visibility": null,
            "align_self": null,
            "height": null,
            "min_height": null,
            "padding": null,
            "grid_auto_rows": null,
            "grid_gap": null,
            "max_width": null,
            "order": null,
            "_view_module_version": "1.2.0",
            "grid_template_areas": null,
            "object_position": null,
            "object_fit": null,
            "grid_auto_columns": null,
            "margin": null,
            "display": null,
            "left": null
          }
        },
        "008841dfc4484bdb92d067b2c562a3dd": {
          "model_module": "@jupyter-widgets/controls",
          "model_name": "HBoxModel",
          "model_module_version": "1.5.0",
          "state": {
            "_view_name": "HBoxView",
            "_dom_classes": [],
            "_model_name": "HBoxModel",
            "_view_module": "@jupyter-widgets/controls",
            "_model_module_version": "1.5.0",
            "_view_count": null,
            "_view_module_version": "1.5.0",
            "box_style": "",
            "layout": "IPY_MODEL_4bb1215443da47dea90ceeabd5e0143b",
            "_model_module": "@jupyter-widgets/controls",
            "children": [
              "IPY_MODEL_a45f3df3f8fb4c36ba7eceea97ba92cb",
              "IPY_MODEL_f1cf162a87f74d6b8f2cadf16a7a5acd",
              "IPY_MODEL_a0daba159f284882aba010ecc7f850d7"
            ]
          }
        },
        "4bb1215443da47dea90ceeabd5e0143b": {
          "model_module": "@jupyter-widgets/base",
          "model_name": "LayoutModel",
          "model_module_version": "1.2.0",
          "state": {
            "_view_name": "LayoutView",
            "grid_template_rows": null,
            "right": null,
            "justify_content": null,
            "_view_module": "@jupyter-widgets/base",
            "overflow": null,
            "_model_module_version": "1.2.0",
            "_view_count": null,
            "flex_flow": null,
            "width": null,
            "min_width": null,
            "border": null,
            "align_items": null,
            "bottom": null,
            "_model_module": "@jupyter-widgets/base",
            "top": null,
            "grid_column": null,
            "overflow_y": null,
            "overflow_x": null,
            "grid_auto_flow": null,
            "grid_area": null,
            "grid_template_columns": null,
            "flex": null,
            "_model_name": "LayoutModel",
            "justify_items": null,
            "grid_row": null,
            "max_height": null,
            "align_content": null,
            "visibility": null,
            "align_self": null,
            "height": null,
            "min_height": null,
            "padding": null,
            "grid_auto_rows": null,
            "grid_gap": null,
            "max_width": null,
            "order": null,
            "_view_module_version": "1.2.0",
            "grid_template_areas": null,
            "object_position": null,
            "object_fit": null,
            "grid_auto_columns": null,
            "margin": null,
            "display": null,
            "left": null
          }
        },
        "a45f3df3f8fb4c36ba7eceea97ba92cb": {
          "model_module": "@jupyter-widgets/controls",
          "model_name": "HTMLModel",
          "model_module_version": "1.5.0",
          "state": {
            "_view_name": "HTMLView",
            "style": "IPY_MODEL_f2a559f5a61b44059dc013d2be7ba48f",
            "_dom_classes": [],
            "description": "",
            "_model_name": "HTMLModel",
            "placeholder": "​",
            "_view_module": "@jupyter-widgets/controls",
            "_model_module_version": "1.5.0",
            "value": "100%",
            "_view_count": null,
            "_view_module_version": "1.5.0",
            "description_tooltip": null,
            "_model_module": "@jupyter-widgets/controls",
            "layout": "IPY_MODEL_6d2902329ee44c358e9dd19dc634629b"
          }
        },
        "f1cf162a87f74d6b8f2cadf16a7a5acd": {
          "model_module": "@jupyter-widgets/controls",
          "model_name": "FloatProgressModel",
          "model_module_version": "1.5.0",
          "state": {
            "_view_name": "ProgressView",
            "style": "IPY_MODEL_c1b0863d84a2426385d31b2d4c11e0db",
            "_dom_classes": [],
            "description": "",
            "_model_name": "FloatProgressModel",
            "bar_style": "success",
            "max": 2999,
            "_view_module": "@jupyter-widgets/controls",
            "_model_module_version": "1.5.0",
            "value": 2999,
            "_view_count": null,
            "_view_module_version": "1.5.0",
            "orientation": "horizontal",
            "min": 0,
            "description_tooltip": null,
            "_model_module": "@jupyter-widgets/controls",
            "layout": "IPY_MODEL_82a578f232fd4af58c5f066469dc8024"
          }
        },
        "a0daba159f284882aba010ecc7f850d7": {
          "model_module": "@jupyter-widgets/controls",
          "model_name": "HTMLModel",
          "model_module_version": "1.5.0",
          "state": {
            "_view_name": "HTMLView",
            "style": "IPY_MODEL_6c6b54eb9f1d4a928702371dedec7714",
            "_dom_classes": [],
            "description": "",
            "_model_name": "HTMLModel",
            "placeholder": "​",
            "_view_module": "@jupyter-widgets/controls",
            "_model_module_version": "1.5.0",
            "value": " 2999/2999 [00:00&lt;00:00, 14072.12it/s]",
            "_view_count": null,
            "_view_module_version": "1.5.0",
            "description_tooltip": null,
            "_model_module": "@jupyter-widgets/controls",
            "layout": "IPY_MODEL_033ad2dd6916496e90055ad86c978c48"
          }
        },
        "f2a559f5a61b44059dc013d2be7ba48f": {
          "model_module": "@jupyter-widgets/controls",
          "model_name": "DescriptionStyleModel",
          "model_module_version": "1.5.0",
          "state": {
            "_view_name": "StyleView",
            "_model_name": "DescriptionStyleModel",
            "description_width": "",
            "_view_module": "@jupyter-widgets/base",
            "_model_module_version": "1.5.0",
            "_view_count": null,
            "_view_module_version": "1.2.0",
            "_model_module": "@jupyter-widgets/controls"
          }
        },
        "6d2902329ee44c358e9dd19dc634629b": {
          "model_module": "@jupyter-widgets/base",
          "model_name": "LayoutModel",
          "model_module_version": "1.2.0",
          "state": {
            "_view_name": "LayoutView",
            "grid_template_rows": null,
            "right": null,
            "justify_content": null,
            "_view_module": "@jupyter-widgets/base",
            "overflow": null,
            "_model_module_version": "1.2.0",
            "_view_count": null,
            "flex_flow": null,
            "width": null,
            "min_width": null,
            "border": null,
            "align_items": null,
            "bottom": null,
            "_model_module": "@jupyter-widgets/base",
            "top": null,
            "grid_column": null,
            "overflow_y": null,
            "overflow_x": null,
            "grid_auto_flow": null,
            "grid_area": null,
            "grid_template_columns": null,
            "flex": null,
            "_model_name": "LayoutModel",
            "justify_items": null,
            "grid_row": null,
            "max_height": null,
            "align_content": null,
            "visibility": null,
            "align_self": null,
            "height": null,
            "min_height": null,
            "padding": null,
            "grid_auto_rows": null,
            "grid_gap": null,
            "max_width": null,
            "order": null,
            "_view_module_version": "1.2.0",
            "grid_template_areas": null,
            "object_position": null,
            "object_fit": null,
            "grid_auto_columns": null,
            "margin": null,
            "display": null,
            "left": null
          }
        },
        "c1b0863d84a2426385d31b2d4c11e0db": {
          "model_module": "@jupyter-widgets/controls",
          "model_name": "ProgressStyleModel",
          "model_module_version": "1.5.0",
          "state": {
            "_view_name": "StyleView",
            "_model_name": "ProgressStyleModel",
            "description_width": "",
            "_view_module": "@jupyter-widgets/base",
            "_model_module_version": "1.5.0",
            "_view_count": null,
            "_view_module_version": "1.2.0",
            "bar_color": null,
            "_model_module": "@jupyter-widgets/controls"
          }
        },
        "82a578f232fd4af58c5f066469dc8024": {
          "model_module": "@jupyter-widgets/base",
          "model_name": "LayoutModel",
          "model_module_version": "1.2.0",
          "state": {
            "_view_name": "LayoutView",
            "grid_template_rows": null,
            "right": null,
            "justify_content": null,
            "_view_module": "@jupyter-widgets/base",
            "overflow": null,
            "_model_module_version": "1.2.0",
            "_view_count": null,
            "flex_flow": null,
            "width": null,
            "min_width": null,
            "border": null,
            "align_items": null,
            "bottom": null,
            "_model_module": "@jupyter-widgets/base",
            "top": null,
            "grid_column": null,
            "overflow_y": null,
            "overflow_x": null,
            "grid_auto_flow": null,
            "grid_area": null,
            "grid_template_columns": null,
            "flex": null,
            "_model_name": "LayoutModel",
            "justify_items": null,
            "grid_row": null,
            "max_height": null,
            "align_content": null,
            "visibility": null,
            "align_self": null,
            "height": null,
            "min_height": null,
            "padding": null,
            "grid_auto_rows": null,
            "grid_gap": null,
            "max_width": null,
            "order": null,
            "_view_module_version": "1.2.0",
            "grid_template_areas": null,
            "object_position": null,
            "object_fit": null,
            "grid_auto_columns": null,
            "margin": null,
            "display": null,
            "left": null
          }
        },
        "6c6b54eb9f1d4a928702371dedec7714": {
          "model_module": "@jupyter-widgets/controls",
          "model_name": "DescriptionStyleModel",
          "model_module_version": "1.5.0",
          "state": {
            "_view_name": "StyleView",
            "_model_name": "DescriptionStyleModel",
            "description_width": "",
            "_view_module": "@jupyter-widgets/base",
            "_model_module_version": "1.5.0",
            "_view_count": null,
            "_view_module_version": "1.2.0",
            "_model_module": "@jupyter-widgets/controls"
          }
        },
        "033ad2dd6916496e90055ad86c978c48": {
          "model_module": "@jupyter-widgets/base",
          "model_name": "LayoutModel",
          "model_module_version": "1.2.0",
          "state": {
            "_view_name": "LayoutView",
            "grid_template_rows": null,
            "right": null,
            "justify_content": null,
            "_view_module": "@jupyter-widgets/base",
            "overflow": null,
            "_model_module_version": "1.2.0",
            "_view_count": null,
            "flex_flow": null,
            "width": null,
            "min_width": null,
            "border": null,
            "align_items": null,
            "bottom": null,
            "_model_module": "@jupyter-widgets/base",
            "top": null,
            "grid_column": null,
            "overflow_y": null,
            "overflow_x": null,
            "grid_auto_flow": null,
            "grid_area": null,
            "grid_template_columns": null,
            "flex": null,
            "_model_name": "LayoutModel",
            "justify_items": null,
            "grid_row": null,
            "max_height": null,
            "align_content": null,
            "visibility": null,
            "align_self": null,
            "height": null,
            "min_height": null,
            "padding": null,
            "grid_auto_rows": null,
            "grid_gap": null,
            "max_width": null,
            "order": null,
            "_view_module_version": "1.2.0",
            "grid_template_areas": null,
            "object_position": null,
            "object_fit": null,
            "grid_auto_columns": null,
            "margin": null,
            "display": null,
            "left": null
          }
        },
        "25970fcf7c3b414c988f081696b37ac0": {
          "model_module": "@jupyter-widgets/controls",
          "model_name": "HBoxModel",
          "model_module_version": "1.5.0",
          "state": {
            "_view_name": "HBoxView",
            "_dom_classes": [],
            "_model_name": "HBoxModel",
            "_view_module": "@jupyter-widgets/controls",
            "_model_module_version": "1.5.0",
            "_view_count": null,
            "_view_module_version": "1.5.0",
            "box_style": "",
            "layout": "IPY_MODEL_1d506721de9843a2a9e6974e2f6e0e20",
            "_model_module": "@jupyter-widgets/controls",
            "children": [
              "IPY_MODEL_e814611208e44067975ffe03ac1d52d6",
              "IPY_MODEL_92d04cf9c017408aa87463c8b8b5b710",
              "IPY_MODEL_d15bf0487ca642a486c07a7d229028c7"
            ]
          }
        },
        "1d506721de9843a2a9e6974e2f6e0e20": {
          "model_module": "@jupyter-widgets/base",
          "model_name": "LayoutModel",
          "model_module_version": "1.2.0",
          "state": {
            "_view_name": "LayoutView",
            "grid_template_rows": null,
            "right": null,
            "justify_content": null,
            "_view_module": "@jupyter-widgets/base",
            "overflow": null,
            "_model_module_version": "1.2.0",
            "_view_count": null,
            "flex_flow": null,
            "width": null,
            "min_width": null,
            "border": null,
            "align_items": null,
            "bottom": null,
            "_model_module": "@jupyter-widgets/base",
            "top": null,
            "grid_column": null,
            "overflow_y": null,
            "overflow_x": null,
            "grid_auto_flow": null,
            "grid_area": null,
            "grid_template_columns": null,
            "flex": null,
            "_model_name": "LayoutModel",
            "justify_items": null,
            "grid_row": null,
            "max_height": null,
            "align_content": null,
            "visibility": null,
            "align_self": null,
            "height": null,
            "min_height": null,
            "padding": null,
            "grid_auto_rows": null,
            "grid_gap": null,
            "max_width": null,
            "order": null,
            "_view_module_version": "1.2.0",
            "grid_template_areas": null,
            "object_position": null,
            "object_fit": null,
            "grid_auto_columns": null,
            "margin": null,
            "display": null,
            "left": null
          }
        },
        "e814611208e44067975ffe03ac1d52d6": {
          "model_module": "@jupyter-widgets/controls",
          "model_name": "HTMLModel",
          "model_module_version": "1.5.0",
          "state": {
            "_view_name": "HTMLView",
            "style": "IPY_MODEL_1da01bbc134947679695d0acca61c43e",
            "_dom_classes": [],
            "description": "",
            "_model_name": "HTMLModel",
            "placeholder": "​",
            "_view_module": "@jupyter-widgets/controls",
            "_model_module_version": "1.5.0",
            "value": "100%",
            "_view_count": null,
            "_view_module_version": "1.5.0",
            "description_tooltip": null,
            "_model_module": "@jupyter-widgets/controls",
            "layout": "IPY_MODEL_5abc72e036014fa59ff891bc3cd01cc4"
          }
        },
        "92d04cf9c017408aa87463c8b8b5b710": {
          "model_module": "@jupyter-widgets/controls",
          "model_name": "FloatProgressModel",
          "model_module_version": "1.5.0",
          "state": {
            "_view_name": "ProgressView",
            "style": "IPY_MODEL_e9ca6b3e5745433b978a8733b66b2284",
            "_dom_classes": [],
            "description": "",
            "_model_name": "FloatProgressModel",
            "bar_style": "success",
            "max": 100,
            "_view_module": "@jupyter-widgets/controls",
            "_model_module_version": "1.5.0",
            "value": 100,
            "_view_count": null,
            "_view_module_version": "1.5.0",
            "orientation": "horizontal",
            "min": 0,
            "description_tooltip": null,
            "_model_module": "@jupyter-widgets/controls",
            "layout": "IPY_MODEL_15acc3cb10f0425482a713b28adca745"
          }
        },
        "d15bf0487ca642a486c07a7d229028c7": {
          "model_module": "@jupyter-widgets/controls",
          "model_name": "HTMLModel",
          "model_module_version": "1.5.0",
          "state": {
            "_view_name": "HTMLView",
            "style": "IPY_MODEL_59ee6248a6424780831be7a58b68fe88",
            "_dom_classes": [],
            "description": "",
            "_model_name": "HTMLModel",
            "placeholder": "​",
            "_view_module": "@jupyter-widgets/controls",
            "_model_module_version": "1.5.0",
            "value": " 100/100 [00:07&lt;00:00, 13.73it/s]",
            "_view_count": null,
            "_view_module_version": "1.5.0",
            "description_tooltip": null,
            "_model_module": "@jupyter-widgets/controls",
            "layout": "IPY_MODEL_025501221c6a4c929473489f3785ee60"
          }
        },
        "1da01bbc134947679695d0acca61c43e": {
          "model_module": "@jupyter-widgets/controls",
          "model_name": "DescriptionStyleModel",
          "model_module_version": "1.5.0",
          "state": {
            "_view_name": "StyleView",
            "_model_name": "DescriptionStyleModel",
            "description_width": "",
            "_view_module": "@jupyter-widgets/base",
            "_model_module_version": "1.5.0",
            "_view_count": null,
            "_view_module_version": "1.2.0",
            "_model_module": "@jupyter-widgets/controls"
          }
        },
        "5abc72e036014fa59ff891bc3cd01cc4": {
          "model_module": "@jupyter-widgets/base",
          "model_name": "LayoutModel",
          "model_module_version": "1.2.0",
          "state": {
            "_view_name": "LayoutView",
            "grid_template_rows": null,
            "right": null,
            "justify_content": null,
            "_view_module": "@jupyter-widgets/base",
            "overflow": null,
            "_model_module_version": "1.2.0",
            "_view_count": null,
            "flex_flow": null,
            "width": null,
            "min_width": null,
            "border": null,
            "align_items": null,
            "bottom": null,
            "_model_module": "@jupyter-widgets/base",
            "top": null,
            "grid_column": null,
            "overflow_y": null,
            "overflow_x": null,
            "grid_auto_flow": null,
            "grid_area": null,
            "grid_template_columns": null,
            "flex": null,
            "_model_name": "LayoutModel",
            "justify_items": null,
            "grid_row": null,
            "max_height": null,
            "align_content": null,
            "visibility": null,
            "align_self": null,
            "height": null,
            "min_height": null,
            "padding": null,
            "grid_auto_rows": null,
            "grid_gap": null,
            "max_width": null,
            "order": null,
            "_view_module_version": "1.2.0",
            "grid_template_areas": null,
            "object_position": null,
            "object_fit": null,
            "grid_auto_columns": null,
            "margin": null,
            "display": null,
            "left": null
          }
        },
        "e9ca6b3e5745433b978a8733b66b2284": {
          "model_module": "@jupyter-widgets/controls",
          "model_name": "ProgressStyleModel",
          "model_module_version": "1.5.0",
          "state": {
            "_view_name": "StyleView",
            "_model_name": "ProgressStyleModel",
            "description_width": "",
            "_view_module": "@jupyter-widgets/base",
            "_model_module_version": "1.5.0",
            "_view_count": null,
            "_view_module_version": "1.2.0",
            "bar_color": null,
            "_model_module": "@jupyter-widgets/controls"
          }
        },
        "15acc3cb10f0425482a713b28adca745": {
          "model_module": "@jupyter-widgets/base",
          "model_name": "LayoutModel",
          "model_module_version": "1.2.0",
          "state": {
            "_view_name": "LayoutView",
            "grid_template_rows": null,
            "right": null,
            "justify_content": null,
            "_view_module": "@jupyter-widgets/base",
            "overflow": null,
            "_model_module_version": "1.2.0",
            "_view_count": null,
            "flex_flow": null,
            "width": null,
            "min_width": null,
            "border": null,
            "align_items": null,
            "bottom": null,
            "_model_module": "@jupyter-widgets/base",
            "top": null,
            "grid_column": null,
            "overflow_y": null,
            "overflow_x": null,
            "grid_auto_flow": null,
            "grid_area": null,
            "grid_template_columns": null,
            "flex": null,
            "_model_name": "LayoutModel",
            "justify_items": null,
            "grid_row": null,
            "max_height": null,
            "align_content": null,
            "visibility": null,
            "align_self": null,
            "height": null,
            "min_height": null,
            "padding": null,
            "grid_auto_rows": null,
            "grid_gap": null,
            "max_width": null,
            "order": null,
            "_view_module_version": "1.2.0",
            "grid_template_areas": null,
            "object_position": null,
            "object_fit": null,
            "grid_auto_columns": null,
            "margin": null,
            "display": null,
            "left": null
          }
        },
        "59ee6248a6424780831be7a58b68fe88": {
          "model_module": "@jupyter-widgets/controls",
          "model_name": "DescriptionStyleModel",
          "model_module_version": "1.5.0",
          "state": {
            "_view_name": "StyleView",
            "_model_name": "DescriptionStyleModel",
            "description_width": "",
            "_view_module": "@jupyter-widgets/base",
            "_model_module_version": "1.5.0",
            "_view_count": null,
            "_view_module_version": "1.2.0",
            "_model_module": "@jupyter-widgets/controls"
          }
        },
        "025501221c6a4c929473489f3785ee60": {
          "model_module": "@jupyter-widgets/base",
          "model_name": "LayoutModel",
          "model_module_version": "1.2.0",
          "state": {
            "_view_name": "LayoutView",
            "grid_template_rows": null,
            "right": null,
            "justify_content": null,
            "_view_module": "@jupyter-widgets/base",
            "overflow": null,
            "_model_module_version": "1.2.0",
            "_view_count": null,
            "flex_flow": null,
            "width": null,
            "min_width": null,
            "border": null,
            "align_items": null,
            "bottom": null,
            "_model_module": "@jupyter-widgets/base",
            "top": null,
            "grid_column": null,
            "overflow_y": null,
            "overflow_x": null,
            "grid_auto_flow": null,
            "grid_area": null,
            "grid_template_columns": null,
            "flex": null,
            "_model_name": "LayoutModel",
            "justify_items": null,
            "grid_row": null,
            "max_height": null,
            "align_content": null,
            "visibility": null,
            "align_self": null,
            "height": null,
            "min_height": null,
            "padding": null,
            "grid_auto_rows": null,
            "grid_gap": null,
            "max_width": null,
            "order": null,
            "_view_module_version": "1.2.0",
            "grid_template_areas": null,
            "object_position": null,
            "object_fit": null,
            "grid_auto_columns": null,
            "margin": null,
            "display": null,
            "left": null
          }
        }
      }
    }
  },
  "cells": [
    {
      "cell_type": "code",
      "metadata": {
        "id": "xnU__GQOGAjq"
      },
      "source": [
        ""
      ],
      "execution_count": null,
      "outputs": []
    },
    {
      "cell_type": "code",
      "metadata": {
        "id": "uyfFc8VufUyl",
        "colab": {
          "base_uri": "https://localhost:8080/"
        },
        "outputId": "a92bcee8-a00a-4ed7-c5a2-6c870f39d747"
      },
      "source": [
        "################################################################################\n",
        "# INSTALL CONDA ON GOOGLE COLAB\n",
        "################################################################################\n",
        "! wget https://repo.anaconda.com/miniconda/Miniconda3-py37_4.8.2-Linux-x86_64.sh\n",
        "! chmod +x Miniconda3-py37_4.8.2-Linux-x86_64.sh\n",
        "! bash ./Miniconda3-py37_4.8.2-Linux-x86_64.sh -b -f -p /usr/local\n",
        "import sys\n",
        "sys.path.append('/usr/local/lib/python3.7/site-packages/')"
      ],
      "execution_count": 1,
      "outputs": [
        {
          "output_type": "stream",
          "name": "stdout",
          "text": [
            "--2021-09-01 16:01:42--  https://repo.anaconda.com/miniconda/Miniconda3-py37_4.8.2-Linux-x86_64.sh\n",
            "Resolving repo.anaconda.com (repo.anaconda.com)... 104.16.130.3, 104.16.131.3, 2606:4700::6810:8203, ...\n",
            "Connecting to repo.anaconda.com (repo.anaconda.com)|104.16.130.3|:443... connected.\n",
            "HTTP request sent, awaiting response... 200 OK\n",
            "Length: 85055499 (81M) [application/x-sh]\n",
            "Saving to: ‘Miniconda3-py37_4.8.2-Linux-x86_64.sh’\n",
            "\n",
            "Miniconda3-py37_4.8 100%[===================>]  81.12M  96.3MB/s    in 0.8s    \n",
            "\n",
            "2021-09-01 16:01:43 (96.3 MB/s) - ‘Miniconda3-py37_4.8.2-Linux-x86_64.sh’ saved [85055499/85055499]\n",
            "\n",
            "PREFIX=/usr/local\n",
            "Unpacking payload ...\n",
            "Collecting package metadata (current_repodata.json): - \b\b\\ \b\b| \b\bdone\n",
            "Solving environment: - \b\b\\ \b\bdone\n",
            "\n",
            "## Package Plan ##\n",
            "\n",
            "  environment location: /usr/local\n",
            "\n",
            "  added / updated specs:\n",
            "    - _libgcc_mutex==0.1=main\n",
            "    - asn1crypto==1.3.0=py37_0\n",
            "    - ca-certificates==2020.1.1=0\n",
            "    - certifi==2019.11.28=py37_0\n",
            "    - cffi==1.14.0=py37h2e261b9_0\n",
            "    - chardet==3.0.4=py37_1003\n",
            "    - conda-package-handling==1.6.0=py37h7b6447c_0\n",
            "    - conda==4.8.2=py37_0\n",
            "    - cryptography==2.8=py37h1ba5d50_0\n",
            "    - idna==2.8=py37_0\n",
            "    - ld_impl_linux-64==2.33.1=h53a641e_7\n",
            "    - libedit==3.1.20181209=hc058e9b_0\n",
            "    - libffi==3.2.1=hd88cf55_4\n",
            "    - libgcc-ng==9.1.0=hdf63c60_0\n",
            "    - libstdcxx-ng==9.1.0=hdf63c60_0\n",
            "    - ncurses==6.2=he6710b0_0\n",
            "    - openssl==1.1.1d=h7b6447c_4\n",
            "    - pip==20.0.2=py37_1\n",
            "    - pycosat==0.6.3=py37h7b6447c_0\n",
            "    - pycparser==2.19=py37_0\n",
            "    - pyopenssl==19.1.0=py37_0\n",
            "    - pysocks==1.7.1=py37_0\n",
            "    - python==3.7.6=h0371630_2\n",
            "    - readline==7.0=h7b6447c_5\n",
            "    - requests==2.22.0=py37_1\n",
            "    - ruamel_yaml==0.15.87=py37h7b6447c_0\n",
            "    - setuptools==45.2.0=py37_0\n",
            "    - six==1.14.0=py37_0\n",
            "    - sqlite==3.31.1=h7b6447c_0\n",
            "    - tk==8.6.8=hbc83047_0\n",
            "    - tqdm==4.42.1=py_0\n",
            "    - urllib3==1.25.8=py37_0\n",
            "    - wheel==0.34.2=py37_0\n",
            "    - xz==5.2.4=h14c3975_4\n",
            "    - yaml==0.1.7=had09818_2\n",
            "    - zlib==1.2.11=h7b6447c_3\n",
            "\n",
            "\n",
            "The following NEW packages will be INSTALLED:\n",
            "\n",
            "  _libgcc_mutex      pkgs/main/linux-64::_libgcc_mutex-0.1-main\n",
            "  asn1crypto         pkgs/main/linux-64::asn1crypto-1.3.0-py37_0\n",
            "  ca-certificates    pkgs/main/linux-64::ca-certificates-2020.1.1-0\n",
            "  certifi            pkgs/main/linux-64::certifi-2019.11.28-py37_0\n",
            "  cffi               pkgs/main/linux-64::cffi-1.14.0-py37h2e261b9_0\n",
            "  chardet            pkgs/main/linux-64::chardet-3.0.4-py37_1003\n",
            "  conda              pkgs/main/linux-64::conda-4.8.2-py37_0\n",
            "  conda-package-han~ pkgs/main/linux-64::conda-package-handling-1.6.0-py37h7b6447c_0\n",
            "  cryptography       pkgs/main/linux-64::cryptography-2.8-py37h1ba5d50_0\n",
            "  idna               pkgs/main/linux-64::idna-2.8-py37_0\n",
            "  ld_impl_linux-64   pkgs/main/linux-64::ld_impl_linux-64-2.33.1-h53a641e_7\n",
            "  libedit            pkgs/main/linux-64::libedit-3.1.20181209-hc058e9b_0\n",
            "  libffi             pkgs/main/linux-64::libffi-3.2.1-hd88cf55_4\n",
            "  libgcc-ng          pkgs/main/linux-64::libgcc-ng-9.1.0-hdf63c60_0\n",
            "  libstdcxx-ng       pkgs/main/linux-64::libstdcxx-ng-9.1.0-hdf63c60_0\n",
            "  ncurses            pkgs/main/linux-64::ncurses-6.2-he6710b0_0\n",
            "  openssl            pkgs/main/linux-64::openssl-1.1.1d-h7b6447c_4\n",
            "  pip                pkgs/main/linux-64::pip-20.0.2-py37_1\n",
            "  pycosat            pkgs/main/linux-64::pycosat-0.6.3-py37h7b6447c_0\n",
            "  pycparser          pkgs/main/linux-64::pycparser-2.19-py37_0\n",
            "  pyopenssl          pkgs/main/linux-64::pyopenssl-19.1.0-py37_0\n",
            "  pysocks            pkgs/main/linux-64::pysocks-1.7.1-py37_0\n",
            "  python             pkgs/main/linux-64::python-3.7.6-h0371630_2\n",
            "  readline           pkgs/main/linux-64::readline-7.0-h7b6447c_5\n",
            "  requests           pkgs/main/linux-64::requests-2.22.0-py37_1\n",
            "  ruamel_yaml        pkgs/main/linux-64::ruamel_yaml-0.15.87-py37h7b6447c_0\n",
            "  setuptools         pkgs/main/linux-64::setuptools-45.2.0-py37_0\n",
            "  six                pkgs/main/linux-64::six-1.14.0-py37_0\n",
            "  sqlite             pkgs/main/linux-64::sqlite-3.31.1-h7b6447c_0\n",
            "  tk                 pkgs/main/linux-64::tk-8.6.8-hbc83047_0\n",
            "  tqdm               pkgs/main/noarch::tqdm-4.42.1-py_0\n",
            "  urllib3            pkgs/main/linux-64::urllib3-1.25.8-py37_0\n",
            "  wheel              pkgs/main/linux-64::wheel-0.34.2-py37_0\n",
            "  xz                 pkgs/main/linux-64::xz-5.2.4-h14c3975_4\n",
            "  yaml               pkgs/main/linux-64::yaml-0.1.7-had09818_2\n",
            "  zlib               pkgs/main/linux-64::zlib-1.2.11-h7b6447c_3\n",
            "\n",
            "\n",
            "Preparing transaction: / \b\b- \b\b\\ \b\b| \b\bdone\n",
            "Executing transaction: - \b\b\\ \b\b| \b\b/ \b\b- \b\b\\ \b\b| \b\b/ \b\b- \b\b\\ \b\b| \b\b/ \b\b- \b\b\\ \b\b| \b\b/ \b\b- \b\b\\ \b\b| \b\bdone\n",
            "installation finished.\n",
            "WARNING:\n",
            "    You currently have a PYTHONPATH environment variable set. This may cause\n",
            "    unexpected behavior when running the Python interpreter in Miniconda3.\n",
            "    For best results, please verify that your PYTHONPATH only points to\n",
            "    directories of packages that are compatible with the Python interpreter\n",
            "    in Miniconda3: /usr/local\n"
          ]
        }
      ]
    },
    {
      "cell_type": "code",
      "metadata": {
        "id": "KusR8f3oGlEr"
      },
      "source": [
        ""
      ],
      "execution_count": null,
      "outputs": []
    },
    {
      "cell_type": "code",
      "metadata": {
        "id": "QD319lDvf6Xp",
        "colab": {
          "base_uri": "https://localhost:8080/"
        },
        "outputId": "820e73a0-84c6-46b8-ffcd-17ad1c00d974"
      },
      "source": [
        "! conda install -c rdkit rdkit -y"
      ],
      "execution_count": 2,
      "outputs": [
        {
          "output_type": "stream",
          "name": "stdout",
          "text": [
            "Collecting package metadata (current_repodata.json): - \b\b\\ \b\b| \b\b/ \b\b- \b\b\\ \b\b| \b\b/ \b\b- \b\b\\ \b\b| \b\b/ \b\b- \b\b\\ \b\b| \b\b/ \b\b- \b\b\\ \b\b| \b\b/ \b\b- \b\bdone\n",
            "Solving environment: | \b\b/ \b\b- \b\b\\ \b\b| \b\b/ \b\b- \b\b\\ \b\b| \b\b/ \b\b- \b\b\\ \b\b| \b\bdone\n",
            "\n",
            "## Package Plan ##\n",
            "\n",
            "  environment location: /usr/local\n",
            "\n",
            "  added / updated specs:\n",
            "    - rdkit\n",
            "\n",
            "\n",
            "The following packages will be downloaded:\n",
            "\n",
            "    package                    |            build\n",
            "    ---------------------------|-----------------\n",
            "    blas-1.0                   |              mkl           6 KB\n",
            "    bottleneck-1.3.2           |   py37heb32a55_1         125 KB\n",
            "    bzip2-1.0.8                |       h7b6447c_0          78 KB\n",
            "    ca-certificates-2021.7.5   |       h06a4308_1         113 KB\n",
            "    cairo-1.16.0               |       hf32fb01_1         1.0 MB\n",
            "    certifi-2021.5.30          |   py37h06a4308_0         139 KB\n",
            "    conda-4.10.3               |   py37h06a4308_0         2.9 MB\n",
            "    fontconfig-2.13.1          |       h6c09931_0         250 KB\n",
            "    freetype-2.10.4            |       h5ab3b9f_0         596 KB\n",
            "    glib-2.69.1                |       h5202010_0         1.7 MB\n",
            "    icu-58.2                   |       he6710b0_3        10.5 MB\n",
            "    intel-openmp-2021.3.0      |    h06a4308_3350         1.4 MB\n",
            "    jpeg-9b                    |       h024ee3a_2         214 KB\n",
            "    lcms2-2.12                 |       h3be6417_0         312 KB\n",
            "    libboost-1.73.0            |      h3ff78a5_11        13.9 MB\n",
            "    libffi-3.3                 |       he6710b0_2          50 KB\n",
            "    libpng-1.6.37              |       hbc83047_0         278 KB\n",
            "    libtiff-4.2.0              |       h85742a9_0         502 KB\n",
            "    libuuid-1.0.3              |       h1bed415_2          15 KB\n",
            "    libwebp-base-1.2.0         |       h27cfd23_0         437 KB\n",
            "    libxcb-1.14                |       h7b6447c_0         505 KB\n",
            "    libxml2-2.9.10             |       hb55368b_3         1.2 MB\n",
            "    lz4-c-1.9.3                |       h295c915_1         185 KB\n",
            "    mkl-2021.3.0               |     h06a4308_520       141.2 MB\n",
            "    mkl-service-2.4.0          |   py37h7f8727e_0          56 KB\n",
            "    mkl_fft-1.3.0              |   py37h42c9631_2         170 KB\n",
            "    mkl_random-1.2.2           |   py37h51133e4_0         287 KB\n",
            "    numexpr-2.7.3              |   py37h22e1b3c_1         188 KB\n",
            "    numpy-1.20.3               |   py37hf144106_0          23 KB\n",
            "    numpy-base-1.20.3          |   py37h74d4b33_0         4.5 MB\n",
            "    olefile-0.46               |           py37_0          50 KB\n",
            "    openjpeg-2.4.0             |       h3ad879b_0         331 KB\n",
            "    openssl-1.1.1k             |       h27cfd23_0         2.5 MB\n",
            "    pandas-1.3.2               |   py37h8c16a72_0         9.2 MB\n",
            "    pcre-8.45                  |       h295c915_0         207 KB\n",
            "    pillow-8.3.1               |   py37h2c7a002_0         635 KB\n",
            "    pixman-0.40.0              |       h7b6447c_0         370 KB\n",
            "    py-boost-1.73.0            |  py37ha9443f7_11         204 KB\n",
            "    python-dateutil-2.8.2      |     pyhd3eb1b0_0         233 KB\n",
            "    pytz-2021.1                |     pyhd3eb1b0_0         181 KB\n",
            "    rdkit-2020.09.1.0          |   py37hd50e099_1        25.8 MB  rdkit\n",
            "    xz-5.2.5                   |       h7b6447c_0         341 KB\n",
            "    zstd-1.4.9                 |       haebb681_0         480 KB\n",
            "    ------------------------------------------------------------\n",
            "                                           Total:       223.2 MB\n",
            "\n",
            "The following NEW packages will be INSTALLED:\n",
            "\n",
            "  blas               pkgs/main/linux-64::blas-1.0-mkl\n",
            "  bottleneck         pkgs/main/linux-64::bottleneck-1.3.2-py37heb32a55_1\n",
            "  bzip2              pkgs/main/linux-64::bzip2-1.0.8-h7b6447c_0\n",
            "  cairo              pkgs/main/linux-64::cairo-1.16.0-hf32fb01_1\n",
            "  fontconfig         pkgs/main/linux-64::fontconfig-2.13.1-h6c09931_0\n",
            "  freetype           pkgs/main/linux-64::freetype-2.10.4-h5ab3b9f_0\n",
            "  glib               pkgs/main/linux-64::glib-2.69.1-h5202010_0\n",
            "  icu                pkgs/main/linux-64::icu-58.2-he6710b0_3\n",
            "  intel-openmp       pkgs/main/linux-64::intel-openmp-2021.3.0-h06a4308_3350\n",
            "  jpeg               pkgs/main/linux-64::jpeg-9b-h024ee3a_2\n",
            "  lcms2              pkgs/main/linux-64::lcms2-2.12-h3be6417_0\n",
            "  libboost           pkgs/main/linux-64::libboost-1.73.0-h3ff78a5_11\n",
            "  libpng             pkgs/main/linux-64::libpng-1.6.37-hbc83047_0\n",
            "  libtiff            pkgs/main/linux-64::libtiff-4.2.0-h85742a9_0\n",
            "  libuuid            pkgs/main/linux-64::libuuid-1.0.3-h1bed415_2\n",
            "  libwebp-base       pkgs/main/linux-64::libwebp-base-1.2.0-h27cfd23_0\n",
            "  libxcb             pkgs/main/linux-64::libxcb-1.14-h7b6447c_0\n",
            "  libxml2            pkgs/main/linux-64::libxml2-2.9.10-hb55368b_3\n",
            "  lz4-c              pkgs/main/linux-64::lz4-c-1.9.3-h295c915_1\n",
            "  mkl                pkgs/main/linux-64::mkl-2021.3.0-h06a4308_520\n",
            "  mkl-service        pkgs/main/linux-64::mkl-service-2.4.0-py37h7f8727e_0\n",
            "  mkl_fft            pkgs/main/linux-64::mkl_fft-1.3.0-py37h42c9631_2\n",
            "  mkl_random         pkgs/main/linux-64::mkl_random-1.2.2-py37h51133e4_0\n",
            "  numexpr            pkgs/main/linux-64::numexpr-2.7.3-py37h22e1b3c_1\n",
            "  numpy              pkgs/main/linux-64::numpy-1.20.3-py37hf144106_0\n",
            "  numpy-base         pkgs/main/linux-64::numpy-base-1.20.3-py37h74d4b33_0\n",
            "  olefile            pkgs/main/linux-64::olefile-0.46-py37_0\n",
            "  openjpeg           pkgs/main/linux-64::openjpeg-2.4.0-h3ad879b_0\n",
            "  pandas             pkgs/main/linux-64::pandas-1.3.2-py37h8c16a72_0\n",
            "  pcre               pkgs/main/linux-64::pcre-8.45-h295c915_0\n",
            "  pillow             pkgs/main/linux-64::pillow-8.3.1-py37h2c7a002_0\n",
            "  pixman             pkgs/main/linux-64::pixman-0.40.0-h7b6447c_0\n",
            "  py-boost           pkgs/main/linux-64::py-boost-1.73.0-py37ha9443f7_11\n",
            "  python-dateutil    pkgs/main/noarch::python-dateutil-2.8.2-pyhd3eb1b0_0\n",
            "  pytz               pkgs/main/noarch::pytz-2021.1-pyhd3eb1b0_0\n",
            "  rdkit              rdkit/linux-64::rdkit-2020.09.1.0-py37hd50e099_1\n",
            "  zstd               pkgs/main/linux-64::zstd-1.4.9-haebb681_0\n",
            "\n",
            "The following packages will be UPDATED:\n",
            "\n",
            "  ca-certificates                                2020.1.1-0 --> 2021.7.5-h06a4308_1\n",
            "  certifi                                 2019.11.28-py37_0 --> 2021.5.30-py37h06a4308_0\n",
            "  conda                                        4.8.2-py37_0 --> 4.10.3-py37h06a4308_0\n",
            "  libffi                                   3.2.1-hd88cf55_4 --> 3.3-he6710b0_2\n",
            "  openssl                                 1.1.1d-h7b6447c_4 --> 1.1.1k-h27cfd23_0\n",
            "  xz                                       5.2.4-h14c3975_4 --> 5.2.5-h7b6447c_0\n",
            "\n",
            "\n",
            "\n",
            "Downloading and Extracting Packages\n",
            "numexpr-2.7.3        | 188 KB    | : 100% 1.0/1 [00:00<00:00,  6.85it/s]               \n",
            "py-boost-1.73.0      | 204 KB    | : 100% 1.0/1 [00:00<00:00, 12.77it/s]\n",
            "libuuid-1.0.3        | 15 KB     | : 100% 1.0/1 [00:00<00:00, 13.71it/s]\n",
            "olefile-0.46         | 50 KB     | : 100% 1.0/1 [00:00<00:00, 15.41it/s]\n",
            "icu-58.2             | 10.5 MB   | : 100% 1.0/1 [00:00<00:00,  2.70it/s]                \n",
            "numpy-base-1.20.3    | 4.5 MB    | : 100% 1.0/1 [00:00<00:00,  2.75it/s]\n",
            "ca-certificates-2021 | 113 KB    | : 100% 1.0/1 [00:00<00:00, 15.53it/s]\n",
            "cairo-1.16.0         | 1.0 MB    | : 100% 1.0/1 [00:00<00:00,  9.30it/s]\n",
            "certifi-2021.5.30    | 139 KB    | : 100% 1.0/1 [00:00<00:00, 14.58it/s]\n",
            "pytz-2021.1          | 181 KB    | : 100% 1.0/1 [00:00<00:00,  8.45it/s]\n",
            "libboost-1.73.0      | 13.9 MB   | : 100% 1.0/1 [00:02<00:00,  2.08s/it]               \n",
            "mkl_fft-1.3.0        | 170 KB    | : 100% 1.0/1 [00:00<00:00, 14.69it/s]\n",
            "glib-2.69.1          | 1.7 MB    | : 100% 1.0/1 [00:00<00:00,  6.21it/s]\n",
            "libxml2-2.9.10       | 1.2 MB    | : 100% 1.0/1 [00:00<00:00,  8.17it/s]\n",
            "pcre-8.45            | 207 KB    | : 100% 1.0/1 [00:00<00:00, 13.83it/s]\n",
            "openjpeg-2.4.0       | 331 KB    | : 100% 1.0/1 [00:00<00:00, 10.96it/s]\n",
            "pandas-1.3.2         | 9.2 MB    | : 100% 1.0/1 [00:00<00:00,  1.20it/s]               \n",
            "libpng-1.6.37        | 278 KB    | : 100% 1.0/1 [00:00<00:00, 12.45it/s]\n",
            "zstd-1.4.9           | 480 KB    | : 100% 1.0/1 [00:00<00:00, 10.61it/s]\n",
            "libwebp-base-1.2.0   | 437 KB    | : 100% 1.0/1 [00:00<00:00, 10.80it/s]\n",
            "rdkit-2020.09.1.0    | 25.8 MB   | : 100% 1.0/1 [00:06<00:00,  6.25s/it]\n",
            "lcms2-2.12           | 312 KB    | : 100% 1.0/1 [00:00<00:00, 12.07it/s]\n",
            "blas-1.0             | 6 KB      | : 100% 1.0/1 [00:00<00:00, 18.64it/s]\n",
            "intel-openmp-2021.3. | 1.4 MB    | : 100% 1.0/1 [00:00<00:00,  9.81it/s]\n",
            "freetype-2.10.4      | 596 KB    | : 100% 1.0/1 [00:00<00:00, 12.97it/s]\n",
            "fontconfig-2.13.1    | 250 KB    | : 100% 1.0/1 [00:00<00:00, 14.29it/s]\n",
            "mkl-2021.3.0         | 141.2 MB  | : 100% 1.0/1 [00:05<00:00,  5.88s/it]               \n",
            "xz-5.2.5             | 341 KB    | : 100% 1.0/1 [00:00<00:00, 13.78it/s]\n",
            "python-dateutil-2.8. | 233 KB    | : 100% 1.0/1 [00:00<00:00, 14.64it/s]\n",
            "bzip2-1.0.8          | 78 KB     | : 100% 1.0/1 [00:00<00:00, 15.25it/s]\n",
            "pixman-0.40.0        | 370 KB    | : 100% 1.0/1 [00:00<00:00, 13.04it/s]\n",
            "lz4-c-1.9.3          | 185 KB    | : 100% 1.0/1 [00:00<00:00, 13.24it/s]\n",
            "jpeg-9b              | 214 KB    | : 100% 1.0/1 [00:00<00:00, 13.32it/s]\n",
            "libxcb-1.14          | 505 KB    | : 100% 1.0/1 [00:00<00:00, 10.91it/s]\n",
            "libffi-3.3           | 50 KB     | : 100% 1.0/1 [00:00<00:00, 14.53it/s]\n",
            "openssl-1.1.1k       | 2.5 MB    | : 100% 1.0/1 [00:00<00:00,  6.29it/s]\n",
            "conda-4.10.3         | 2.9 MB    | : 100% 1.0/1 [00:00<00:00,  5.56it/s]\n",
            "pillow-8.3.1         | 635 KB    | : 100% 1.0/1 [00:00<00:00, 10.39it/s]\n",
            "numpy-1.20.3         | 23 KB     | : 100% 1.0/1 [00:00<00:00, 18.13it/s]\n",
            "mkl-service-2.4.0    | 56 KB     | : 100% 1.0/1 [00:00<00:00, 16.43it/s]\n",
            "libtiff-4.2.0        | 502 KB    | : 100% 1.0/1 [00:00<00:00, 12.34it/s]\n",
            "mkl_random-1.2.2     | 287 KB    | : 100% 1.0/1 [00:00<00:00, 10.86it/s]\n",
            "bottleneck-1.3.2     | 125 KB    | : 100% 1.0/1 [00:00<00:00, 13.16it/s]\n",
            "Preparing transaction: - \b\b\\ \b\b| \b\b/ \b\b- \b\b\\ \b\b| \b\b/ \b\b- \b\b\\ \b\b| \b\bdone\n",
            "Verifying transaction: - \b\b\\ \b\b| \b\b/ \b\b- \b\b\\ \b\b| \b\b/ \b\b- \b\b\\ \b\b| \b\b/ \b\b- \b\b\\ \b\b| \b\b/ \b\b- \b\b\\ \b\b| \b\b/ \b\b- \b\b\\ \b\b| \b\b/ \b\b- \b\b\\ \b\bdone\n",
            "Executing transaction: / \b\b- \b\b\\ \b\b| \b\b/ \b\b- \b\b\\ \b\b| \b\b/ \b\b- \b\b\\ \b\b| \b\b/ \b\b- \b\b\\ \b\b| \b\b/ \b\b- \b\b\\ \b\b| \b\b/ \b\b- \b\b\\ \b\b| \b\b/ \b\b- \b\b\\ \b\b| \b\b/ \b\b- \b\b\\ \b\b| \b\b/ \b\b- \b\b\\ \b\b| \b\b/ \b\b- \b\b\\ \b\b| \b\b/ \b\b- \b\b\\ \b\b| \b\b/ \b\b- \b\b\\ \b\b| \b\b/ \b\b- \b\b\\ \b\b| \b\b/ \b\b- \b\b\\ \b\b| \b\b/ \b\b- \b\b\\ \b\b| \b\b/ \b\b- \b\b\\ \b\b| \b\b/ \b\b- \b\b\\ \b\b| \b\b/ \b\b- \b\b\\ \b\b| \b\b/ \b\b- \b\b\\ \b\b| \b\b/ \b\b- \b\b\\ \b\b| \b\b/ \b\b- \b\b\\ \b\b| \b\b/ \b\b- \b\b\\ \b\b| \b\b/ \b\b- \b\b\\ \b\b| \b\b/ \b\b- \b\b\\ \b\b| \b\b/ \b\b- \b\b\\ \b\b| \b\b/ \b\b- \b\b\\ \b\b| \b\b/ \b\b- \b\b\\ \b\b| \b\b/ \b\b- \b\b\\ \b\b| \b\b/ \b\b- \b\b\\ \b\b| \b\b/ \b\b- \b\b\\ \b\b| \b\b/ \b\b- \b\b\\ \b\b| \b\b/ \b\b- \b\b\\ \b\b| \b\b/ \b\b- \b\b\\ \b\b| \b\b/ \b\b- \b\b\\ \b\b| \b\b/ \b\b- \b\b\\ \b\b| \b\b/ \b\b- \b\b\\ \b\b| \b\b/ \b\b- \b\b\\ \b\b| \b\b/ \b\b- \b\b\\ \b\b| \b\b/ \b\b- \b\b\\ \b\b| \b\b/ \b\b- \b\b\\ \b\b| \b\b/ \b\b- \b\b\\ \b\b| \b\b/ \b\b- \b\b\\ \b\b| \b\b/ \b\b- \b\b\\ \b\b| \b\b/ \b\b- \b\b\\ \b\b| \b\b/ \b\b- \b\b\\ \b\b| \b\b/ \b\b- \b\b\\ \b\b| \b\b/ \b\b- \b\b\\ \b\b| \b\b/ \b\b- \b\bdone\n"
          ]
        }
      ]
    },
    {
      "cell_type": "code",
      "metadata": {
        "id": "VpXa0-84GzWm"
      },
      "source": [
        "import rdkit"
      ],
      "execution_count": 3,
      "outputs": []
    },
    {
      "cell_type": "code",
      "metadata": {
        "id": "FPPn84jKHBow"
      },
      "source": [
        "import pandas as pd\n",
        "from rdkit import Chem\n",
        "from rdkit.Chem import Draw\n",
        "from rdkit.Chem import PandasTools\n",
        "from rdkit.Chem import AllChem\n",
        "from rdkit.Chem.Draw import SimilarityMaps\n",
        "from xgboost import XGBRegressor\n",
        "from tqdm.notebook import tqdm\n",
        "import numpy as np\n",
        "import seaborn as sns\n",
        "import io\n",
        "from PIL import Image\n",
        "from sklearn.metrics import roc_curve, roc_auc_score\n",
        "from rdkit.Chem.Draw import rdMolDraw2D\n",
        "from IPython.display import SVG\n",
        "from collections import defaultdict"
      ],
      "execution_count": 4,
      "outputs": []
    },
    {
      "cell_type": "markdown",
      "metadata": {
        "id": "nuBXfEXEHgAc"
      },
      "source": [
        "**Loading the Data**"
      ]
    },
    {
      "cell_type": "markdown",
      "metadata": {
        "id": "GRbzsbVdHy7q"
      },
      "source": [
        "read the training data, convert the \"activity\" field to an integer, and add a fingerprint column (morgan fingerprints are used in this example)"
      ]
    },
    {
      "cell_type": "code",
      "metadata": {
        "colab": {
          "base_uri": "https://localhost:8080/",
          "height": 49,
          "referenced_widgets": [
            "4fa5813d9d834caab16b60c3b5e9c4c9",
            "21a1e90969dc4ff59844138393c92c73",
            "a935cbf61d974c13a756ba7555dd74ef",
            "2a6c26f8d78a4b689a3c80d62a7e45c5",
            "3ab0628438b94569976e8cb47406d96c",
            "8d19101e84c441b299cf91b70e6c3639",
            "576cdab668a44e12b53563cbc025a268",
            "ba4f04aaad9e4390b0ad784ffb17b384",
            "326a29480d09461daf7f298c86a52792",
            "2f87e1df3c4a42069bd6b68e7b5f0986",
            "7fb1a47013ae4aaa82cb7d5ce2e756bc"
          ]
        },
        "id": "nZbY6QZnHEA7",
        "outputId": "f377882a-6587-4470-a9bd-caa22acd4327"
      },
      "source": [
        "df_train = PandasTools.LoadSDF(\"N_train_lbl.sdf\")\n",
        "df_train.activity = df_train.activity.astype(int)\n",
        "df_train['fp'] = [AllChem.GetMorganFingerprintAsBitVect(x, 2) for x in tqdm(df_train.ROMol)]"
      ],
      "execution_count": 5,
      "outputs": [
        {
          "output_type": "display_data",
          "data": {
            "application/vnd.jupyter.widget-view+json": {
              "model_id": "4fa5813d9d834caab16b60c3b5e9c4c9",
              "version_minor": 0,
              "version_major": 2
            },
            "text/plain": [
              "  0%|          | 0/6995 [00:00<?, ?it/s]"
            ]
          },
          "metadata": {}
        }
      ]
    },
    {
      "cell_type": "code",
      "metadata": {
        "colab": {
          "base_uri": "https://localhost:8080/",
          "height": 267
        },
        "id": "iRyJ2a10IGWW",
        "outputId": "2ce4c89c-8fe6-429a-946f-f4ffbff62a23"
      },
      "source": [
        "df_train.head(1)"
      ],
      "execution_count": 6,
      "outputs": [
        {
          "output_type": "execute_result",
          "data": {
            "text/html": [
              "<div>\n",
              "<style scoped>\n",
              "    .dataframe tbody tr th:only-of-type {\n",
              "        vertical-align: middle;\n",
              "    }\n",
              "\n",
              "    .dataframe tbody tr th {\n",
              "        vertical-align: top;\n",
              "    }\n",
              "\n",
              "    .dataframe thead th {\n",
              "        text-align: right;\n",
              "    }\n",
              "</style>\n",
              "<table border=\"1\" class=\"dataframe\">\n",
              "  <thead>\n",
              "    <tr style=\"text-align: right;\">\n",
              "      <th></th>\n",
              "      <th>N</th>\n",
              "      <th>ids</th>\n",
              "      <th>activity</th>\n",
              "      <th>lbls</th>\n",
              "      <th>ID</th>\n",
              "      <th>ROMol</th>\n",
              "      <th>fp</th>\n",
              "    </tr>\n",
              "  </thead>\n",
              "  <tbody>\n",
              "    <tr>\n",
              "      <th>0</th>\n",
              "      <td>2</td>\n",
              "      <td>19,23</td>\n",
              "      <td>2</td>\n",
              "      <td>0,0,0,0,0,0,0,0,0,0,0,0,0,0,0,0,0,0,1,0,0,0,1,...</td>\n",
              "      <td>CHEMBL379993</td>\n",
              "      <td><img data-content=\"rdkit/molecule\" src=\"data:image/png;base64,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\" alt=\"Mol\"/></td>\n",
              "      <td>[0, 0, 0, 0, 0, 0, 0, 0, 0, 0, 0, 0, 0, 0, 0, ...</td>\n",
              "    </tr>\n",
              "  </tbody>\n",
              "</table>\n",
              "</div>"
            ],
            "text/plain": [
              "   N  ...                                                 fp\n",
              "0  2  ...  [0, 0, 0, 0, 0, 0, 0, 0, 0, 0, 0, 0, 0, 0, 0, ...\n",
              "\n",
              "[1 rows x 7 columns]"
            ]
          },
          "metadata": {},
          "execution_count": 6
        }
      ]
    },
    {
      "cell_type": "markdown",
      "metadata": {
        "id": "JLVSHn9WIeM7"
      },
      "source": [
        "read the test data, convert the \"activity\" field to an integer and add a fingerprint column (morgan fingerprints)"
      ]
    },
    {
      "cell_type": "code",
      "metadata": {
        "colab": {
          "base_uri": "https://localhost:8080/",
          "height": 49,
          "referenced_widgets": [
            "008841dfc4484bdb92d067b2c562a3dd",
            "4bb1215443da47dea90ceeabd5e0143b",
            "a45f3df3f8fb4c36ba7eceea97ba92cb",
            "f1cf162a87f74d6b8f2cadf16a7a5acd",
            "a0daba159f284882aba010ecc7f850d7",
            "f2a559f5a61b44059dc013d2be7ba48f",
            "6d2902329ee44c358e9dd19dc634629b",
            "c1b0863d84a2426385d31b2d4c11e0db",
            "82a578f232fd4af58c5f066469dc8024",
            "6c6b54eb9f1d4a928702371dedec7714",
            "033ad2dd6916496e90055ad86c978c48"
          ]
        },
        "id": "X3N2PlmGIacD",
        "outputId": "4b7e3499-d132-4afa-e01f-03b502bed08f"
      },
      "source": [
        "df_test = PandasTools.LoadSDF(\"N_test_lbl.sdf\")\n",
        "df_test.activity = df_test.activity.astype(int)\n",
        "df_test['fp'] = [AllChem.GetMorganFingerprintAsBitVect(x, 2) for x in tqdm(df_test.ROMol)]"
      ],
      "execution_count": 7,
      "outputs": [
        {
          "output_type": "display_data",
          "data": {
            "application/vnd.jupyter.widget-view+json": {
              "model_id": "008841dfc4484bdb92d067b2c562a3dd",
              "version_minor": 0,
              "version_major": 2
            },
            "text/plain": [
              "  0%|          | 0/2999 [00:00<?, ?it/s]"
            ]
          },
          "metadata": {}
        }
      ]
    },
    {
      "cell_type": "markdown",
      "metadata": {
        "id": "gAazptawJa-H"
      },
      "source": [
        "extract the X and y variables from the training dataframe"
      ]
    },
    {
      "cell_type": "code",
      "metadata": {
        "id": "Pi89rdZ1JX6B"
      },
      "source": [
        "train_X = np.asarray(list(df_train.fp.values))\n",
        "train_y = df_train.activity.values"
      ],
      "execution_count": 9,
      "outputs": []
    },
    {
      "cell_type": "markdown",
      "metadata": {
        "id": "sPQsP6v9JrcR"
      },
      "source": [
        "**Building a Simple Machine Learning Model**"
      ]
    },
    {
      "cell_type": "code",
      "metadata": {
        "id": "eB8yj4qxJ2VN"
      },
      "source": [
        "xgb = XGBRegressor()"
      ],
      "execution_count": 10,
      "outputs": []
    },
    {
      "cell_type": "code",
      "metadata": {
        "colab": {
          "base_uri": "https://localhost:8080/"
        },
        "id": "qYraEKgkKCGL",
        "outputId": "1a032005-e464-498f-e5a4-2b7fd68b4e7c"
      },
      "source": [
        "xgb.fit(train_X,train_y)"
      ],
      "execution_count": 11,
      "outputs": [
        {
          "output_type": "stream",
          "name": "stdout",
          "text": [
            "[16:19:10] WARNING: /workspace/src/objective/regression_obj.cu:152: reg:linear is now deprecated in favor of reg:squarederror.\n"
          ]
        },
        {
          "output_type": "execute_result",
          "data": {
            "text/plain": [
              "XGBRegressor(base_score=0.5, booster='gbtree', colsample_bylevel=1,\n",
              "             colsample_bynode=1, colsample_bytree=1, gamma=0,\n",
              "             importance_type='gain', learning_rate=0.1, max_delta_step=0,\n",
              "             max_depth=3, min_child_weight=1, missing=None, n_estimators=100,\n",
              "             n_jobs=1, nthread=None, objective='reg:linear', random_state=0,\n",
              "             reg_alpha=0, reg_lambda=1, scale_pos_weight=1, seed=None,\n",
              "             silent=None, subsample=1, verbosity=1)"
            ]
          },
          "metadata": {},
          "execution_count": 11
        }
      ]
    },
    {
      "cell_type": "markdown",
      "metadata": {
        "id": "AdBu80e5KLDM"
      },
      "source": [
        "Extract the X and y variables from the test dataframe."
      ]
    },
    {
      "cell_type": "code",
      "metadata": {
        "id": "jXGv2xElKO86"
      },
      "source": [
        "test_X = np.asarray(list(df_test.fp.values))\n",
        "test_y = df_test.activity.values"
      ],
      "execution_count": 12,
      "outputs": []
    },
    {
      "cell_type": "markdown",
      "metadata": {
        "id": "OeYeDB5eKWkv"
      },
      "source": [
        "Predict on the test set"
      ]
    },
    {
      "cell_type": "code",
      "metadata": {
        "id": "VnQA2aRDKYJv"
      },
      "source": [
        "test_pred = xgb.predict(test_X)"
      ],
      "execution_count": 13,
      "outputs": []
    },
    {
      "cell_type": "markdown",
      "metadata": {
        "id": "-NX91ZlpKpSj"
      },
      "source": [
        "Plot the predictions as a violinplot"
      ]
    },
    {
      "cell_type": "code",
      "metadata": {
        "colab": {
          "base_uri": "https://localhost:8080/",
          "height": 265
        },
        "id": "fvamsDapKsif",
        "outputId": "731d3e3b-d016-4990-e88c-63d74babe593"
      },
      "source": [
        "sns.violinplot(x=test_y, y=test_pred);"
      ],
      "execution_count": 14,
      "outputs": [
        {
          "output_type": "display_data",
          "data": {
            "image/png": "[encoded data removed]",
            "text/plain": [
              "<Figure size 432x288 with 1 Axes>"
            ]
          },
          "metadata": {
            "needs_background": "light"
          }
        }
      ]
    },
    {
      "cell_type": "markdown",
      "metadata": {
        "id": "tQ_PWRk5K0ao"
      },
      "source": [
        "**Intepreting the Model**"
      ]
    },
    {
      "cell_type": "markdown",
      "metadata": {
        "id": "MAdCUW6PQFPQ"
      },
      "source": [
        "> grabbing the first molecule in the training set. We notice this molecule has 2 nitrogen atoms, with indices 18 and 22"
      ]
    },
    {
      "cell_type": "code",
      "metadata": {
        "colab": {
          "base_uri": "https://localhost:8080/",
          "height": 521
        },
        "id": "-GSAL4OnLF1T",
        "outputId": "6bae46c9-fb42-4764-b4f8-792dc6526d8a"
      },
      "source": [
        "example_mol = Chem.Mol(df_train.ROMol.values[0])\n",
        "d2d = rdMolDraw2D.MolDraw2DSVG(500,500)\n",
        "d2d.drawOptions().addAtomIndices=True\n",
        "d2d.DrawMolecule(example_mol)\n",
        "d2d.FinishDrawing()\n",
        "SVG(d2d.GetDrawingText())"
      ],
      "execution_count": 15,
      "outputs": [
        {
          "output_type": "execute_result",
          "data": {
            "text/plain": [
              "<IPython.core.display.SVG object>"
            ],
            "image/svg+xml": "<svg baseProfile=\"full\" height=\"500px\" version=\"1.1\" viewBox=\"0 0 500 500\" width=\"500px\" xml:space=\"preserve\" xmlns=\"http://www.w3.org/2000/svg\" xmlns:rdkit=\"http://www.rdkit.org/xml\" xmlns:xlink=\"http://www.w3.org/1999/xlink\">\n<!-- END OF HEADER -->\n<rect height=\"500\" style=\"opacity:1.0;fill:#FFFFFF;stroke:none\" width=\"500\" x=\"0\" y=\"0\"> </rect>\n<path class=\"bond-0\" d=\"M 470.697,312.467 L 461.578,296.673\" style=\"fill:none;fill-rule:evenodd;stroke:#000000;stroke-width:2.0px;stroke-linecap:butt;stroke-linejoin:miter;stroke-opacity:1\"/>\n<path class=\"bond-0\" d=\"M 461.578,296.673 L 452.459,280.878\" style=\"fill:none;fill-rule:evenodd;stroke:#FF0000;stroke-width:2.0px;stroke-linecap:butt;stroke-linejoin:miter;stroke-opacity:1\"/>\n<path class=\"bond-1\" d=\"M 440.858,273.015 L 421.61,273.015\" style=\"fill:none;fill-rule:evenodd;stroke:#FF0000;stroke-width:2.0px;stroke-linecap:butt;stroke-linejoin:miter;stroke-opacity:1\"/>\n<path class=\"bond-1\" d=\"M 421.61,273.015 L 402.363,273.015\" style=\"fill:none;fill-rule:evenodd;stroke:#000000;stroke-width:2.0px;stroke-linecap:butt;stroke-linejoin:miter;stroke-opacity:1\"/>\n<path class=\"bond-2\" d=\"M 402.363,273.015 L 379.585,312.467\" style=\"fill:none;fill-rule:evenodd;stroke:#000000;stroke-width:2.0px;stroke-linecap:butt;stroke-linejoin:miter;stroke-opacity:1\"/>\n<path class=\"bond-2\" d=\"M 391.056,274.377 L 375.111,301.993\" style=\"fill:none;fill-rule:evenodd;stroke:#000000;stroke-width:2.0px;stroke-linecap:butt;stroke-linejoin:miter;stroke-opacity:1\"/>\n<path class=\"bond-29\" d=\"M 402.363,273.015 L 379.585,233.563\" style=\"fill:none;fill-rule:evenodd;stroke:#000000;stroke-width:2.0px;stroke-linecap:butt;stroke-linejoin:miter;stroke-opacity:1\"/>\n<path class=\"bond-3\" d=\"M 379.585,312.467 L 334.028,312.467\" style=\"fill:none;fill-rule:evenodd;stroke:#000000;stroke-width:2.0px;stroke-linecap:butt;stroke-linejoin:miter;stroke-opacity:1\"/>\n<path class=\"bond-4\" d=\"M 334.028,312.467 L 311.25,273.015\" style=\"fill:none;fill-rule:evenodd;stroke:#000000;stroke-width:2.0px;stroke-linecap:butt;stroke-linejoin:miter;stroke-opacity:1\"/>\n<path class=\"bond-4\" d=\"M 338.502,301.993 L 322.558,274.377\" style=\"fill:none;fill-rule:evenodd;stroke:#000000;stroke-width:2.0px;stroke-linecap:butt;stroke-linejoin:miter;stroke-opacity:1\"/>\n<path class=\"bond-32\" d=\"M 334.028,312.467 L 311.25,351.922\" style=\"fill:none;fill-rule:evenodd;stroke:#000000;stroke-width:2.0px;stroke-linecap:butt;stroke-linejoin:miter;stroke-opacity:1\"/>\n<path class=\"bond-5\" d=\"M 311.25,273.015 L 334.028,233.563\" style=\"fill:none;fill-rule:evenodd;stroke:#000000;stroke-width:2.0px;stroke-linecap:butt;stroke-linejoin:miter;stroke-opacity:1\"/>\n<path class=\"bond-9\" d=\"M 311.25,273.015 L 265.694,273.015\" style=\"fill:none;fill-rule:evenodd;stroke:#000000;stroke-width:2.0px;stroke-linecap:butt;stroke-linejoin:miter;stroke-opacity:1\"/>\n<path class=\"bond-6\" d=\"M 334.028,233.563 L 379.585,233.563\" style=\"fill:none;fill-rule:evenodd;stroke:#000000;stroke-width:2.0px;stroke-linecap:butt;stroke-linejoin:miter;stroke-opacity:1\"/>\n<path class=\"bond-6\" d=\"M 340.862,242.675 L 372.751,242.675\" style=\"fill:none;fill-rule:evenodd;stroke:#000000;stroke-width:2.0px;stroke-linecap:butt;stroke-linejoin:miter;stroke-opacity:1\"/>\n<path class=\"bond-7\" d=\"M 379.585,233.563 L 388.704,217.768\" style=\"fill:none;fill-rule:evenodd;stroke:#000000;stroke-width:2.0px;stroke-linecap:butt;stroke-linejoin:miter;stroke-opacity:1\"/>\n<path class=\"bond-7\" d=\"M 388.704,217.768 L 397.823,201.972\" style=\"fill:none;fill-rule:evenodd;stroke:#FF0000;stroke-width:2.0px;stroke-linecap:butt;stroke-linejoin:miter;stroke-opacity:1\"/>\n<path class=\"bond-8\" d=\"M 397.939,186.446 L 388.762,170.552\" style=\"fill:none;fill-rule:evenodd;stroke:#FF0000;stroke-width:2.0px;stroke-linecap:butt;stroke-linejoin:miter;stroke-opacity:1\"/>\n<path class=\"bond-8\" d=\"M 388.762,170.552 L 379.585,154.657\" style=\"fill:none;fill-rule:evenodd;stroke:#000000;stroke-width:2.0px;stroke-linecap:butt;stroke-linejoin:miter;stroke-opacity:1\"/>\n<path class=\"bond-10\" d=\"M 265.694,273.015 L 242.916,233.563\" style=\"fill:none;fill-rule:evenodd;stroke:#000000;stroke-width:2.0px;stroke-linecap:butt;stroke-linejoin:miter;stroke-opacity:1\"/>\n<path class=\"bond-17\" d=\"M 265.694,273.015 L 256.496,288.946\" style=\"fill:none;fill-rule:evenodd;stroke:#000000;stroke-width:2.0px;stroke-linecap:butt;stroke-linejoin:miter;stroke-opacity:1\"/>\n<path class=\"bond-17\" d=\"M 256.496,288.946 L 247.298,304.877\" style=\"fill:none;fill-rule:evenodd;stroke:#0000FF;stroke-width:2.0px;stroke-linecap:butt;stroke-linejoin:miter;stroke-opacity:1\"/>\n<path class=\"bond-11\" d=\"M 242.916,233.563 L 265.694,194.109\" style=\"fill:none;fill-rule:evenodd;stroke:#000000;stroke-width:2.0px;stroke-linecap:butt;stroke-linejoin:miter;stroke-opacity:1\"/>\n<path class=\"bond-11\" d=\"M 238.442,223.09 L 254.387,195.471\" style=\"fill:none;fill-rule:evenodd;stroke:#000000;stroke-width:2.0px;stroke-linecap:butt;stroke-linejoin:miter;stroke-opacity:1\"/>\n<path class=\"bond-30\" d=\"M 242.916,233.563 L 197.36,233.563\" style=\"fill:none;fill-rule:evenodd;stroke:#000000;stroke-width:2.0px;stroke-linecap:butt;stroke-linejoin:miter;stroke-opacity:1\"/>\n<path class=\"bond-12\" d=\"M 265.694,194.109 L 242.916,154.657\" style=\"fill:none;fill-rule:evenodd;stroke:#000000;stroke-width:2.0px;stroke-linecap:butt;stroke-linejoin:miter;stroke-opacity:1\"/>\n<path class=\"bond-13\" d=\"M 242.916,154.657 L 197.36,154.657\" style=\"fill:none;fill-rule:evenodd;stroke:#000000;stroke-width:2.0px;stroke-linecap:butt;stroke-linejoin:miter;stroke-opacity:1\"/>\n<path class=\"bond-13\" d=\"M 236.082,163.768 L 204.193,163.768\" style=\"fill:none;fill-rule:evenodd;stroke:#000000;stroke-width:2.0px;stroke-linecap:butt;stroke-linejoin:miter;stroke-opacity:1\"/>\n<path class=\"bond-14\" d=\"M 197.36,154.657 L 188.161,138.724\" style=\"fill:none;fill-rule:evenodd;stroke:#000000;stroke-width:2.0px;stroke-linecap:butt;stroke-linejoin:miter;stroke-opacity:1\"/>\n<path class=\"bond-14\" d=\"M 188.161,138.724 L 178.963,122.792\" style=\"fill:none;fill-rule:evenodd;stroke:#33CCCC;stroke-width:2.0px;stroke-linecap:butt;stroke-linejoin:miter;stroke-opacity:1\"/>\n<path class=\"bond-15\" d=\"M 197.36,154.657 L 174.582,194.109\" style=\"fill:none;fill-rule:evenodd;stroke:#000000;stroke-width:2.0px;stroke-linecap:butt;stroke-linejoin:miter;stroke-opacity:1\"/>\n<path class=\"bond-16\" d=\"M 174.582,194.109 L 197.36,233.563\" style=\"fill:none;fill-rule:evenodd;stroke:#000000;stroke-width:2.0px;stroke-linecap:butt;stroke-linejoin:miter;stroke-opacity:1\"/>\n<path class=\"bond-16\" d=\"M 185.889,195.471 L 201.834,223.09\" style=\"fill:none;fill-rule:evenodd;stroke:#000000;stroke-width:2.0px;stroke-linecap:butt;stroke-linejoin:miter;stroke-opacity:1\"/>\n<path class=\"bond-18\" d=\"M 236.884,312.467 L 217.122,312.467\" style=\"fill:none;fill-rule:evenodd;stroke:#0000FF;stroke-width:2.0px;stroke-linecap:butt;stroke-linejoin:miter;stroke-opacity:1\"/>\n<path class=\"bond-18\" d=\"M 217.122,312.467 L 197.36,312.467\" style=\"fill:none;fill-rule:evenodd;stroke:#000000;stroke-width:2.0px;stroke-linecap:butt;stroke-linejoin:miter;stroke-opacity:1\"/>\n<path class=\"bond-27\" d=\"M 247.298,320.057 L 256.496,335.989\" style=\"fill:none;fill-rule:evenodd;stroke:#0000FF;stroke-width:2.0px;stroke-linecap:butt;stroke-linejoin:miter;stroke-opacity:1\"/>\n<path class=\"bond-27\" d=\"M 256.496,335.989 L 265.694,351.922\" style=\"fill:none;fill-rule:evenodd;stroke:#000000;stroke-width:2.0px;stroke-linecap:butt;stroke-linejoin:miter;stroke-opacity:1\"/>\n<path class=\"bond-19\" d=\"M 201.305,310.189 L 192.186,294.395\" style=\"fill:none;fill-rule:evenodd;stroke:#000000;stroke-width:2.0px;stroke-linecap:butt;stroke-linejoin:miter;stroke-opacity:1\"/>\n<path class=\"bond-19\" d=\"M 192.186,294.395 L 183.067,278.6\" style=\"fill:none;fill-rule:evenodd;stroke:#FF0000;stroke-width:2.0px;stroke-linecap:butt;stroke-linejoin:miter;stroke-opacity:1\"/>\n<path class=\"bond-19\" d=\"M 193.414,314.745 L 184.295,298.95\" style=\"fill:none;fill-rule:evenodd;stroke:#000000;stroke-width:2.0px;stroke-linecap:butt;stroke-linejoin:miter;stroke-opacity:1\"/>\n<path class=\"bond-19\" d=\"M 184.295,298.95 L 175.176,283.156\" style=\"fill:none;fill-rule:evenodd;stroke:#FF0000;stroke-width:2.0px;stroke-linecap:butt;stroke-linejoin:miter;stroke-opacity:1\"/>\n<path class=\"bond-20\" d=\"M 197.36,312.467 L 174.582,351.922\" style=\"fill:none;fill-rule:evenodd;stroke:#000000;stroke-width:2.0px;stroke-linecap:butt;stroke-linejoin:miter;stroke-opacity:1\"/>\n<path class=\"bond-21\" d=\"M 174.582,351.922 L 154.819,351.922\" style=\"fill:none;fill-rule:evenodd;stroke:#000000;stroke-width:2.0px;stroke-linecap:butt;stroke-linejoin:miter;stroke-opacity:1\"/>\n<path class=\"bond-21\" d=\"M 154.819,351.922 L 135.057,351.922\" style=\"fill:none;fill-rule:evenodd;stroke:#0000FF;stroke-width:2.0px;stroke-linecap:butt;stroke-linejoin:miter;stroke-opacity:1\"/>\n<path class=\"bond-22\" d=\"M 124.644,344.332 L 115.445,328.399\" style=\"fill:none;fill-rule:evenodd;stroke:#0000FF;stroke-width:2.0px;stroke-linecap:butt;stroke-linejoin:miter;stroke-opacity:1\"/>\n<path class=\"bond-22\" d=\"M 115.445,328.399 L 106.247,312.467\" style=\"fill:none;fill-rule:evenodd;stroke:#000000;stroke-width:2.0px;stroke-linecap:butt;stroke-linejoin:miter;stroke-opacity:1\"/>\n<path class=\"bond-31\" d=\"M 124.643,359.511 L 115.445,375.442\" style=\"fill:none;fill-rule:evenodd;stroke:#0000FF;stroke-width:2.0px;stroke-linecap:butt;stroke-linejoin:miter;stroke-opacity:1\"/>\n<path class=\"bond-31\" d=\"M 115.445,375.442 L 106.247,391.373\" style=\"fill:none;fill-rule:evenodd;stroke:#000000;stroke-width:2.0px;stroke-linecap:butt;stroke-linejoin:miter;stroke-opacity:1\"/>\n<path class=\"bond-23\" d=\"M 106.247,312.467 L 60.6908,312.467\" style=\"fill:none;fill-rule:evenodd;stroke:#000000;stroke-width:2.0px;stroke-linecap:butt;stroke-linejoin:miter;stroke-opacity:1\"/>\n<path class=\"bond-24\" d=\"M 60.6908,312.467 L 51.5137,328.363\" style=\"fill:none;fill-rule:evenodd;stroke:#000000;stroke-width:2.0px;stroke-linecap:butt;stroke-linejoin:miter;stroke-opacity:1\"/>\n<path class=\"bond-24\" d=\"M 51.5137,328.363 L 42.3365,344.259\" style=\"fill:none;fill-rule:evenodd;stroke:#FF0000;stroke-width:2.0px;stroke-linecap:butt;stroke-linejoin:miter;stroke-opacity:1\"/>\n<path class=\"bond-25\" d=\"M 42.4525,359.785 L 51.5717,375.579\" style=\"fill:none;fill-rule:evenodd;stroke:#FF0000;stroke-width:2.0px;stroke-linecap:butt;stroke-linejoin:miter;stroke-opacity:1\"/>\n<path class=\"bond-25\" d=\"M 51.5717,375.579 L 60.6908,391.373\" style=\"fill:none;fill-rule:evenodd;stroke:#000000;stroke-width:2.0px;stroke-linecap:butt;stroke-linejoin:miter;stroke-opacity:1\"/>\n<path class=\"bond-26\" d=\"M 60.6908,391.373 L 106.247,391.373\" style=\"fill:none;fill-rule:evenodd;stroke:#000000;stroke-width:2.0px;stroke-linecap:butt;stroke-linejoin:miter;stroke-opacity:1\"/>\n<path class=\"bond-28\" d=\"M 265.694,351.922 L 311.25,351.922\" style=\"fill:none;fill-rule:evenodd;stroke:#000000;stroke-width:2.0px;stroke-linecap:butt;stroke-linejoin:miter;stroke-opacity:1\"/>\n<path class=\"atom-1\" d=\"M 441.997 273.052 Q 441.997 269.954, 443.528 268.223 Q 445.058 266.492, 447.919 266.492 Q 450.78 266.492, 452.311 268.223 Q 453.841 269.954, 453.841 273.052 Q 453.841 276.186, 452.293 277.972 Q 450.744 279.739, 447.919 279.739 Q 445.076 279.739, 443.528 277.972 Q 441.997 276.204, 441.997 273.052 M 447.919 278.281 Q 449.887 278.281, 450.944 276.969 Q 452.019 275.639, 452.019 273.052 Q 452.019 270.519, 450.944 269.243 Q 449.887 267.949, 447.919 267.949 Q 445.951 267.949, 444.876 269.225 Q 443.819 270.5, 443.819 273.052 Q 443.819 275.657, 444.876 276.969 Q 445.951 278.281, 447.919 278.281 \" fill=\"#FF0000\"/>\n<path class=\"atom-8\" d=\"M 396.441 194.145 Q 396.441 191.047, 397.971 189.316 Q 399.502 187.585, 402.363 187.585 Q 405.224 187.585, 406.755 189.316 Q 408.285 191.047, 408.285 194.145 Q 408.285 197.279, 406.736 199.065 Q 405.187 200.833, 402.363 200.833 Q 399.52 200.833, 397.971 199.065 Q 396.441 197.298, 396.441 194.145 M 402.363 199.375 Q 404.331 199.375, 405.388 198.063 Q 406.463 196.733, 406.463 194.145 Q 406.463 191.612, 405.388 190.337 Q 404.331 189.043, 402.363 189.043 Q 400.395 189.043, 399.32 190.318 Q 398.263 191.594, 398.263 194.145 Q 398.263 196.751, 399.32 198.063 Q 400.395 199.375, 402.363 199.375 \" fill=\"#FF0000\"/>\n<path class=\"atom-15\" d=\"M 170.746 108.751 L 178.417 108.751 L 178.417 110.227 L 172.477 110.227 L 172.477 114.145 L 177.761 114.145 L 177.761 115.64 L 172.477 115.64 L 172.477 121.653 L 170.746 121.653 L 170.746 108.751 \" fill=\"#33CCCC\"/>\n<path class=\"atom-18\" d=\"M 240.064 306.016 L 244.292 312.85 Q 244.711 313.524, 245.385 314.745 Q 246.059 315.966, 246.096 316.039 L 246.096 306.016 L 247.809 306.016 L 247.809 318.918 L 246.041 318.918 L 241.504 311.446 Q 240.975 310.572, 240.41 309.57 Q 239.864 308.567, 239.7 308.258 L 239.7 318.918 L 238.023 318.918 L 238.023 306.016 L 240.064 306.016 \" fill=\"#0000FF\"/>\n<path class=\"atom-20\" d=\"M 168.659 273.052 Q 168.659 269.954, 170.19 268.223 Q 171.721 266.492, 174.582 266.492 Q 177.442 266.492, 178.973 268.223 Q 180.504 269.954, 180.504 273.052 Q 180.504 276.186, 178.955 277.972 Q 177.406 279.739, 174.582 279.739 Q 171.739 279.739, 170.19 277.972 Q 168.659 276.204, 168.659 273.052 M 174.582 278.281 Q 176.55 278.281, 177.606 276.969 Q 178.682 275.639, 178.682 273.052 Q 178.682 270.519, 177.606 269.243 Q 176.55 267.949, 174.582 267.949 Q 172.613 267.949, 171.538 269.225 Q 170.481 270.5, 170.481 273.052 Q 170.481 275.657, 171.538 276.969 Q 172.613 278.281, 174.582 278.281 \" fill=\"#FF0000\"/>\n<path class=\"atom-22\" d=\"M 126.173 345.471 L 130.401 352.304 Q 130.82 352.979, 131.494 354.2 Q 132.169 355.42, 132.205 355.493 L 132.205 345.471 L 133.918 345.471 L 133.918 358.372 L 132.15 358.372 L 127.613 350.901 Q 127.085 350.027, 126.52 349.024 Q 125.973 348.022, 125.809 347.712 L 125.809 358.372 L 124.133 358.372 L 124.133 345.471 L 126.173 345.471 \" fill=\"#0000FF\"/>\n<path class=\"atom-25\" d=\"M 31.9904 351.958 Q 31.9904 348.86, 33.5211 347.129 Q 35.0518 345.398, 37.9127 345.398 Q 40.7736 345.398, 42.3043 347.129 Q 43.835 348.86, 43.835 351.958 Q 43.835 355.092, 42.2861 356.878 Q 40.7372 358.646, 37.9127 358.646 Q 35.07 358.646, 33.5211 356.878 Q 31.9904 355.111, 31.9904 351.958 M 37.9127 357.188 Q 39.8807 357.188, 40.9376 355.876 Q 42.0128 354.546, 42.0128 351.958 Q 42.0128 349.425, 40.9376 348.15 Q 39.8807 346.856, 37.9127 346.856 Q 35.9447 346.856, 34.8695 348.131 Q 33.8126 349.407, 33.8126 351.958 Q 33.8126 354.564, 34.8695 355.876 Q 35.9447 357.188, 37.9127 357.188 \" fill=\"#FF0000\"/>\n<path class=\"note\" d=\"M 477.273 312.005 Q 476.088 312.005, 475.496 311.131 Q 474.913 310.256, 474.913 308.698 Q 474.913 307.14, 475.496 306.274 Q 476.079 305.409, 477.273 305.409 Q 478.466 305.409, 479.049 306.274 Q 479.633 307.14, 479.633 308.698 Q 479.633 310.256, 479.04 311.131 Q 478.457 312.005, 477.273 312.005 M 477.273 311.276 Q 477.974 311.276, 478.348 310.629 Q 478.721 309.973, 478.721 308.698 Q 478.721 307.431, 478.348 306.784 Q 477.974 306.138, 477.273 306.138 Q 476.58 306.138, 476.198 306.784 Q 475.824 307.431, 475.824 308.698 Q 475.824 309.973, 476.198 310.629 Q 476.58 311.276, 477.273 311.276 \" fill=\"#000000\"/>\n<path class=\"note\" d=\"M 453.922 262.379 L 455.334 262.379 L 455.334 257.559 L 453.776 258.042 L 453.567 257.504 L 455.544 256.621 L 456.191 256.73 L 456.191 262.379 L 457.457 262.379 L 457.457 263.108 L 453.922 263.108 L 453.922 262.379 \" fill=\"#000000\"/>\n<path class=\"note\" d=\"M 404.004 277.623 Q 404.241 277.012, 404.806 276.675 Q 405.371 276.329, 406.155 276.329 Q 407.13 276.329, 407.676 276.857 Q 408.223 277.386, 408.223 278.324 Q 408.223 279.281, 407.512 280.174 Q 406.811 281.067, 405.353 282.124 L 408.332 282.124 L 408.332 282.853 L 403.986 282.853 L 403.986 282.242 Q 405.189 281.386, 405.9 280.748 Q 406.619 280.11, 406.966 279.536 Q 407.312 278.962, 407.312 278.37 Q 407.312 277.75, 407.002 277.404 Q 406.692 277.058, 406.155 277.058 Q 405.635 277.058, 405.289 277.267 Q 404.943 277.477, 404.697 277.942 L 404.004 277.623 \" fill=\"#000000\"/>\n<path class=\"note\" d=\"M 384.31 318.906 Q 384.939 319.088, 385.24 319.498 Q 385.55 319.899, 385.55 320.537 Q 385.55 321.083, 385.276 321.512 Q 385.003 321.931, 384.502 322.168 Q 384.001 322.395, 383.345 322.395 Q 382.652 322.395, 382.133 322.158 Q 381.623 321.912, 381.213 321.42 L 381.732 320.892 Q 382.133 321.329, 382.47 321.502 Q 382.807 321.666, 383.345 321.666 Q 383.928 321.666, 384.283 321.357 Q 384.638 321.038, 384.638 320.528 Q 384.638 319.872, 384.265 319.58 Q 383.9 319.279, 383.108 319.279 L 382.643 319.279 L 382.643 318.623 L 383.053 318.623 Q 383.755 318.614, 384.128 318.314 Q 384.502 318.004, 384.502 317.43 Q 384.502 317.011, 384.192 316.765 Q 383.882 316.51, 383.354 316.51 Q 382.816 316.51, 382.479 316.701 Q 382.151 316.892, 381.896 317.375 L 381.267 317.038 Q 381.495 316.5, 382.042 316.145 Q 382.588 315.781, 383.354 315.781 Q 384.301 315.781, 384.857 316.227 Q 385.413 316.674, 385.413 317.43 Q 385.413 317.949, 385.13 318.323 Q 384.848 318.696, 384.31 318.906 \" fill=\"#000000\"/>\n<path class=\"note\" d=\"M 328.144 313.478 L 328.919 313.478 L 328.919 314.207 L 328.144 314.207 L 328.144 315.692 L 327.288 315.692 L 327.288 314.207 L 323.953 314.207 L 323.953 313.633 L 326.777 309.242 L 328.144 309.242 L 328.144 313.478 M 325.01 313.478 L 327.288 313.478 L 327.288 309.825 L 325.01 313.478 \" fill=\"#000000\"/>\n<path class=\"note\" d=\"M 319.002 272.204 Q 319.567 272.204, 320.032 272.45 Q 320.497 272.687, 320.761 273.143 Q 321.025 273.589, 321.025 274.2 Q 321.025 274.865, 320.697 275.348 Q 320.378 275.821, 319.85 276.067 Q 319.321 276.313, 318.72 276.313 Q 318.128 276.313, 317.581 276.095 Q 317.034 275.876, 316.661 275.457 L 317.208 274.892 Q 317.508 275.22, 317.918 275.402 Q 318.328 275.575, 318.747 275.575 Q 319.321 275.575, 319.713 275.22 Q 320.114 274.865, 320.114 274.218 Q 320.114 273.535, 319.713 273.216 Q 319.321 272.888, 318.693 272.888 Q 318.128 272.888, 317.499 273.134 L 316.998 272.897 L 317.308 269.79 L 320.624 269.79 L 320.533 270.519 L 318.055 270.519 L 317.864 272.432 Q 318.438 272.204, 319.002 272.204 \" fill=\"#000000\"/>\n<path class=\"note\" d=\"M 330.519 226.223 Q 331.084 226.223, 331.531 226.469 Q 331.977 226.715, 332.223 227.161 Q 332.469 227.608, 332.469 228.172 Q 332.469 228.801, 332.187 229.293 Q 331.913 229.776, 331.421 230.049 Q 330.929 230.323, 330.3 230.323 Q 329.152 230.323, 328.569 229.548 Q 327.995 228.765, 327.995 227.216 Q 327.995 225.503, 328.706 224.619 Q 329.426 223.726, 330.802 223.726 Q 331.203 223.726, 331.54 223.817 Q 331.886 223.908, 332.214 224.1 L 331.859 224.71 Q 331.385 224.455, 330.811 224.455 Q 329.9 224.455, 329.435 225.047 Q 328.97 225.63, 328.916 226.842 Q 329.244 226.542, 329.654 226.387 Q 330.073 226.223, 330.519 226.223 M 330.31 229.576 Q 330.656 229.576, 330.938 229.393 Q 331.23 229.211, 331.394 228.892 Q 331.558 228.573, 331.558 228.182 Q 331.558 227.608, 331.239 227.28 Q 330.92 226.952, 330.355 226.952 Q 329.963 226.952, 329.572 227.116 Q 329.189 227.27, 328.916 227.544 Q 328.952 228.61, 329.289 229.093 Q 329.626 229.576, 330.31 229.576 \" fill=\"#000000\"/>\n<path class=\"note\" d=\"M 377.027 224.492 L 373.647 224.492 L 373.647 223.763 L 377.929 223.763 L 377.929 224.41 L 375.324 230.213 L 374.449 230.213 L 377.027 224.492 \" fill=\"#000000\"/>\n<path class=\"note\" d=\"M 418.56 193.954 Q 419.152 194.209, 419.489 194.591 Q 419.826 194.965, 419.826 195.603 Q 419.826 196.149, 419.544 196.578 Q 419.261 196.997, 418.751 197.234 Q 418.25 197.461, 417.585 197.461 Q 416.51 197.461, 415.89 196.969 Q 415.27 196.468, 415.27 195.603 Q 415.27 195.074, 415.544 194.682 Q 415.817 194.282, 416.382 193.981 Q 415.963 193.744, 415.735 193.398 Q 415.507 193.042, 415.507 192.496 Q 415.507 191.74, 416.054 191.293 Q 416.61 190.847, 417.548 190.847 Q 418.487 190.847, 419.033 191.293 Q 419.589 191.74, 419.589 192.496 Q 419.589 192.97, 419.325 193.325 Q 419.07 193.671, 418.56 193.954 M 417.548 191.53 Q 417.011 191.53, 416.71 191.785 Q 416.419 192.04, 416.419 192.496 Q 416.419 192.833, 416.619 193.061 Q 416.819 193.279, 417.102 193.407 Q 417.393 193.534, 417.949 193.726 Q 418.341 193.452, 418.505 193.161 Q 418.678 192.869, 418.678 192.496 Q 418.678 192.04, 418.377 191.785 Q 418.086 191.53, 417.548 191.53 M 417.585 196.778 Q 418.186 196.778, 418.551 196.459 Q 418.915 196.131, 418.915 195.594 Q 418.915 195.247, 418.724 195.029 Q 418.532 194.81, 418.241 194.682 Q 417.958 194.555, 417.448 194.391 L 417.038 194.254 Q 416.583 194.528, 416.382 194.856 Q 416.182 195.174, 416.182 195.594 Q 416.182 196.131, 416.564 196.459 Q 416.947 196.778, 417.585 196.778 \" fill=\"#000000\"/>\n<path class=\"note\" d=\"M 372.941 155.192 Q 374.089 155.192, 374.663 155.975 Q 375.246 156.75, 375.246 158.299 Q 375.246 160.011, 374.526 160.904 Q 373.816 161.788, 372.44 161.788 Q 372.039 161.788, 371.693 161.697 Q 371.356 161.606, 371.028 161.415 L 371.383 160.804 Q 371.857 161.059, 372.431 161.059 Q 373.342 161.059, 373.807 160.476 Q 374.271 159.884, 374.326 158.672 Q 373.998 158.973, 373.579 159.137 Q 373.169 159.292, 372.722 159.292 Q 372.157 159.292, 371.711 159.046 Q 371.265 158.8, 371.019 158.353 Q 370.773 157.907, 370.773 157.342 Q 370.773 156.713, 371.046 156.23 Q 371.328 155.738, 371.82 155.465 Q 372.312 155.192, 372.941 155.192 M 371.684 157.333 Q 371.684 157.907, 372.003 158.235 Q 372.321 158.563, 372.886 158.563 Q 373.278 158.563, 373.661 158.408 Q 374.053 158.244, 374.326 157.97 Q 374.289 156.904, 373.952 156.422 Q 373.615 155.939, 372.932 155.939 Q 372.586 155.939, 372.294 156.121 Q 372.012 156.303, 371.848 156.622 Q 371.684 156.941, 371.684 157.333 \" fill=\"#000000\"/>\n<path class=\"note\" d=\"M 251.928 275.548 L 253.341 275.548 L 253.341 270.728 L 251.783 271.211 L 251.573 270.674 L 253.55 269.79 L 254.197 269.899 L 254.197 275.548 L 255.464 275.548 L 255.464 276.277 L 251.928 276.277 L 251.928 275.548 \" fill=\"#000000\"/>\n<path class=\"note\" d=\"M 258.379 276.35 Q 257.195 276.35, 256.603 275.475 Q 256.019 274.601, 256.019 273.043 Q 256.019 271.485, 256.603 270.619 Q 257.186 269.753, 258.379 269.753 Q 259.573 269.753, 260.156 270.619 Q 260.739 271.485, 260.739 273.043 Q 260.739 274.601, 260.147 275.475 Q 259.564 276.35, 258.379 276.35 M 258.379 275.621 Q 259.081 275.621, 259.454 274.974 Q 259.828 274.318, 259.828 273.043 Q 259.828 271.776, 259.454 271.129 Q 259.081 270.482, 258.379 270.482 Q 257.687 270.482, 257.304 271.129 Q 256.931 271.776, 256.931 273.043 Q 256.931 274.318, 257.304 274.974 Q 257.687 275.621, 258.379 275.621 \" fill=\"#000000\"/>\n<path class=\"note\" d=\"M 233.393 242.654 L 234.806 242.654 L 234.806 237.834 L 233.247 238.317 L 233.038 237.779 L 235.015 236.895 L 235.662 237.005 L 235.662 242.654 L 236.928 242.654 L 236.928 243.383 L 233.393 243.383 L 233.393 242.654 \" fill=\"#000000\"/>\n<path class=\"note\" d=\"M 237.776 242.654 L 239.188 242.654 L 239.188 237.834 L 237.63 238.317 L 237.42 237.779 L 239.398 236.895 L 240.044 237.005 L 240.044 242.654 L 241.311 242.654 L 241.311 243.383 L 237.776 243.383 L 237.776 242.654 \" fill=\"#000000\"/>\n<path class=\"note\" d=\"M 267.351 196.641 L 268.763 196.641 L 268.763 191.822 L 267.205 192.305 L 266.995 191.767 L 268.973 190.883 L 269.619 190.993 L 269.619 196.641 L 270.886 196.641 L 270.886 197.37 L 267.351 197.37 L 267.351 196.641 \" fill=\"#000000\"/>\n<path class=\"note\" d=\"M 271.36 192.141 Q 271.597 191.53, 272.162 191.193 Q 272.726 190.847, 273.51 190.847 Q 274.485 190.847, 275.032 191.375 Q 275.578 191.904, 275.578 192.842 Q 275.578 193.799, 274.868 194.692 Q 274.166 195.585, 272.708 196.641 L 275.688 196.641 L 275.688 197.37 L 271.342 197.37 L 271.342 196.76 Q 272.544 195.903, 273.255 195.266 Q 273.975 194.628, 274.321 194.054 Q 274.667 193.48, 274.667 192.888 Q 274.667 192.268, 274.357 191.922 Q 274.048 191.576, 273.51 191.576 Q 272.991 191.576, 272.644 191.785 Q 272.298 191.995, 272.052 192.459 L 271.36 192.141 \" fill=\"#000000\"/>\n<path class=\"note\" d=\"M 240.817 150.614 L 242.23 150.614 L 242.23 145.795 L 240.671 146.277 L 240.462 145.74 L 242.439 144.856 L 243.086 144.965 L 243.086 150.614 L 244.352 150.614 L 244.352 151.343 L 240.817 151.343 L 240.817 150.614 \" fill=\"#000000\"/>\n<path class=\"note\" d=\"M 247.833 147.945 Q 248.462 148.127, 248.762 148.537 Q 249.072 148.938, 249.072 149.576 Q 249.072 150.122, 248.799 150.551 Q 248.525 150.97, 248.024 151.207 Q 247.523 151.434, 246.867 151.434 Q 246.175 151.434, 245.655 151.198 Q 245.145 150.951, 244.735 150.459 L 245.254 149.931 Q 245.655 150.368, 245.992 150.541 Q 246.33 150.705, 246.867 150.705 Q 247.45 150.705, 247.806 150.396 Q 248.161 150.077, 248.161 149.567 Q 248.161 148.911, 247.787 148.619 Q 247.423 148.318, 246.63 148.318 L 246.166 148.318 L 246.166 147.662 L 246.576 147.662 Q 247.277 147.653, 247.651 147.353 Q 248.024 147.043, 248.024 146.469 Q 248.024 146.05, 247.714 145.804 Q 247.405 145.549, 246.876 145.549 Q 246.339 145.549, 246.002 145.74 Q 245.674 145.931, 245.418 146.414 L 244.79 146.077 Q 245.018 145.539, 245.564 145.184 Q 246.111 144.82, 246.876 144.82 Q 247.824 144.82, 248.38 145.266 Q 248.935 145.713, 248.935 146.469 Q 248.935 146.988, 248.653 147.362 Q 248.37 147.735, 247.833 147.945 \" fill=\"#000000\"/>\n<path class=\"note\" d=\"M 183.612 157.172 L 185.025 157.172 L 185.025 152.352 L 183.467 152.835 L 183.257 152.297 L 185.234 151.413 L 185.881 151.523 L 185.881 157.172 L 187.147 157.172 L 187.147 157.9 L 183.612 157.9 L 183.612 157.172 \" fill=\"#000000\"/>\n<path class=\"note\" d=\"M 191.612 155.686 L 192.386 155.686 L 192.386 156.415 L 191.612 156.415 L 191.612 157.9 L 190.756 157.9 L 190.756 156.415 L 187.421 156.415 L 187.421 155.841 L 190.245 151.45 L 191.612 151.45 L 191.612 155.686 M 188.478 155.686 L 190.756 155.686 L 190.756 152.033 L 188.478 155.686 \" fill=\"#000000\"/>\n<path class=\"note\" d=\"M 161.062 104.566 L 162.474 104.566 L 162.474 99.7459 L 160.916 100.229 L 160.707 99.6913 L 162.684 98.8075 L 163.331 98.9168 L 163.331 104.566 L 164.597 104.566 L 164.597 105.295 L 161.062 105.295 L 161.062 104.566 \" fill=\"#000000\"/>\n<path class=\"note\" d=\"M 167.358 101.258 Q 167.923 101.258, 168.388 101.504 Q 168.852 101.741, 169.117 102.197 Q 169.381 102.643, 169.381 103.254 Q 169.381 103.919, 169.053 104.402 Q 168.734 104.876, 168.205 105.122 Q 167.677 105.368, 167.076 105.368 Q 166.483 105.368, 165.937 105.149 Q 165.39 104.93, 165.016 104.511 L 165.563 103.946 Q 165.864 104.274, 166.274 104.456 Q 166.684 104.63, 167.103 104.63 Q 167.677 104.63, 168.069 104.274 Q 168.47 103.919, 168.47 103.272 Q 168.47 102.589, 168.069 102.27 Q 167.677 101.942, 167.048 101.942 Q 166.483 101.942, 165.855 102.188 L 165.354 101.951 L 165.663 98.8439 L 168.98 98.8439 L 168.889 99.5728 L 166.411 99.5728 L 166.219 101.486 Q 166.793 101.258, 167.358 101.258 \" fill=\"#000000\"/>\n<path class=\"note\" d=\"M 160.907 196.641 L 162.319 196.641 L 162.319 191.822 L 160.761 192.305 L 160.552 191.767 L 162.529 190.883 L 163.176 190.993 L 163.176 196.641 L 164.442 196.641 L 164.442 197.37 L 160.907 197.37 L 160.907 196.641 \" fill=\"#000000\"/>\n<path class=\"note\" d=\"M 167.586 193.343 Q 168.15 193.343, 168.597 193.589 Q 169.043 193.835, 169.289 194.282 Q 169.535 194.728, 169.535 195.293 Q 169.535 195.922, 169.253 196.414 Q 168.98 196.897, 168.488 197.17 Q 167.996 197.443, 167.367 197.443 Q 166.219 197.443, 165.636 196.669 Q 165.062 195.885, 165.062 194.336 Q 165.062 192.623, 165.772 191.74 Q 166.492 190.847, 167.868 190.847 Q 168.269 190.847, 168.606 190.938 Q 168.952 191.029, 169.28 191.22 L 168.925 191.831 Q 168.451 191.576, 167.877 191.576 Q 166.966 191.576, 166.501 192.168 Q 166.037 192.751, 165.982 193.963 Q 166.31 193.662, 166.72 193.507 Q 167.139 193.343, 167.586 193.343 M 167.376 196.696 Q 167.722 196.696, 168.005 196.514 Q 168.296 196.332, 168.46 196.013 Q 168.624 195.694, 168.624 195.302 Q 168.624 194.728, 168.305 194.4 Q 167.986 194.072, 167.422 194.072 Q 167.03 194.072, 166.638 194.236 Q 166.255 194.391, 165.982 194.664 Q 166.018 195.73, 166.356 196.213 Q 166.693 196.696, 167.376 196.696 \" fill=\"#000000\"/>\n<path class=\"note\" d=\"M 187.805 242.654 L 189.217 242.654 L 189.217 237.834 L 187.659 238.317 L 187.45 237.779 L 189.427 236.895 L 190.074 237.005 L 190.074 242.654 L 191.34 242.654 L 191.34 243.383 L 187.805 243.383 L 187.805 242.654 \" fill=\"#000000\"/>\n<path class=\"note\" d=\"M 194.884 237.661 L 191.504 237.661 L 191.504 236.932 L 195.786 236.932 L 195.786 237.579 L 193.181 243.383 L 192.306 243.383 L 194.884 237.661 \" fill=\"#000000\"/>\n<path class=\"note\" d=\"M 229.228 301.849 L 230.64 301.849 L 230.64 297.029 L 229.082 297.512 L 228.873 296.974 L 230.85 296.091 L 231.497 296.2 L 231.497 301.849 L 232.763 301.849 L 232.763 302.578 L 229.228 302.578 L 229.228 301.849 \" fill=\"#000000\"/>\n<path class=\"note\" d=\"M 236.617 299.161 Q 237.209 299.416, 237.546 299.799 Q 237.884 300.172, 237.884 300.81 Q 237.884 301.357, 237.601 301.785 Q 237.319 302.204, 236.808 302.441 Q 236.307 302.669, 235.642 302.669 Q 234.567 302.669, 233.947 302.177 Q 233.328 301.676, 233.328 300.81 Q 233.328 300.282, 233.601 299.89 Q 233.875 299.489, 234.44 299.188 Q 234.02 298.951, 233.793 298.605 Q 233.565 298.25, 233.565 297.703 Q 233.565 296.947, 234.112 296.501 Q 234.667 296.054, 235.606 296.054 Q 236.544 296.054, 237.091 296.501 Q 237.647 296.947, 237.647 297.703 Q 237.647 298.177, 237.382 298.532 Q 237.127 298.879, 236.617 299.161 M 235.606 296.737 Q 235.068 296.737, 234.768 296.993 Q 234.476 297.248, 234.476 297.703 Q 234.476 298.04, 234.676 298.268 Q 234.877 298.487, 235.159 298.614 Q 235.451 298.742, 236.007 298.933 Q 236.398 298.66, 236.562 298.368 Q 236.736 298.077, 236.736 297.703 Q 236.736 297.248, 236.435 296.993 Q 236.143 296.737, 235.606 296.737 M 235.642 301.986 Q 236.244 301.986, 236.608 301.667 Q 236.972 301.339, 236.972 300.801 Q 236.972 300.455, 236.781 300.236 Q 236.59 300.017, 236.298 299.89 Q 236.016 299.762, 235.506 299.598 L 235.096 299.462 Q 234.64 299.735, 234.44 300.063 Q 234.239 300.382, 234.239 300.801 Q 234.239 301.339, 234.622 301.667 Q 235.004 301.986, 235.642 301.986 \" fill=\"#000000\"/>\n<path class=\"note\" d=\"M 176.152 315 L 177.564 315 L 177.564 310.18 L 176.006 310.663 L 175.796 310.125 L 177.773 309.242 L 178.42 309.351 L 178.42 315 L 179.687 315 L 179.687 315.729 L 176.152 315.729 L 176.152 315 \" fill=\"#000000\"/>\n<path class=\"note\" d=\"M 182.356 309.205 Q 183.504 309.205, 184.078 309.989 Q 184.662 310.763, 184.662 312.312 Q 184.662 314.025, 183.942 314.918 Q 183.231 315.802, 181.855 315.802 Q 181.454 315.802, 181.108 315.711 Q 180.771 315.62, 180.443 315.428 L 180.798 314.818 Q 181.272 315.073, 181.846 315.073 Q 182.757 315.073, 183.222 314.49 Q 183.687 313.897, 183.741 312.686 Q 183.413 312.986, 182.994 313.15 Q 182.584 313.305, 182.138 313.305 Q 181.573 313.305, 181.126 313.059 Q 180.68 312.813, 180.434 312.367 Q 180.188 311.92, 180.188 311.355 Q 180.188 310.727, 180.461 310.244 Q 180.744 309.752, 181.236 309.479 Q 181.728 309.205, 182.356 309.205 M 181.099 311.346 Q 181.099 311.92, 181.418 312.248 Q 181.737 312.576, 182.302 312.576 Q 182.694 312.576, 183.076 312.421 Q 183.468 312.257, 183.741 311.984 Q 183.705 310.918, 183.368 310.435 Q 183.031 309.952, 182.347 309.952 Q 182.001 309.952, 181.71 310.135 Q 181.427 310.317, 181.263 310.636 Q 181.099 310.955, 181.099 311.346 \" fill=\"#000000\"/>\n<path class=\"note\" d=\"M 160.023 257.896 Q 160.26 257.286, 160.825 256.949 Q 161.39 256.602, 162.173 256.602 Q 163.148 256.602, 163.695 257.131 Q 164.242 257.659, 164.242 258.598 Q 164.242 259.555, 163.531 260.447 Q 162.829 261.34, 161.372 262.397 L 164.351 262.397 L 164.351 263.126 L 160.005 263.126 L 160.005 262.516 Q 161.208 261.659, 161.918 261.021 Q 162.638 260.384, 162.984 259.81 Q 163.33 259.236, 163.33 258.643 Q 163.33 258.024, 163.021 257.678 Q 162.711 257.331, 162.173 257.331 Q 161.654 257.331, 161.308 257.541 Q 160.962 257.751, 160.716 258.215 L 160.023 257.896 \" fill=\"#000000\"/>\n<path class=\"note\" d=\"M 167.267 263.199 Q 166.082 263.199, 165.49 262.324 Q 164.907 261.45, 164.907 259.892 Q 164.907 258.334, 165.49 257.468 Q 166.073 256.602, 167.267 256.602 Q 168.46 256.602, 169.043 257.468 Q 169.626 258.334, 169.626 259.892 Q 169.626 261.45, 169.034 262.324 Q 168.451 263.199, 167.267 263.199 M 167.267 262.47 Q 167.968 262.47, 168.342 261.823 Q 168.715 261.167, 168.715 259.892 Q 168.715 258.625, 168.342 257.978 Q 167.968 257.331, 167.267 257.331 Q 166.574 257.331, 166.191 257.978 Q 165.818 258.625, 165.818 259.892 Q 165.818 261.167, 166.191 261.823 Q 166.574 262.47, 167.267 262.47 \" fill=\"#000000\"/>\n<path class=\"note\" d=\"M 171.859 356.529 Q 172.096 355.919, 172.661 355.582 Q 173.226 355.235, 174.009 355.235 Q 174.984 355.235, 175.531 355.764 Q 176.077 356.292, 176.077 357.231 Q 176.077 358.187, 175.367 359.08 Q 174.665 359.973, 173.207 361.03 L 176.187 361.03 L 176.187 361.759 L 171.841 361.759 L 171.841 361.149 Q 173.043 360.292, 173.754 359.654 Q 174.474 359.016, 174.82 358.442 Q 175.166 357.868, 175.166 357.276 Q 175.166 356.657, 174.856 356.31 Q 174.547 355.964, 174.009 355.964 Q 173.49 355.964, 173.144 356.174 Q 172.797 356.383, 172.551 356.848 L 171.859 356.529 \" fill=\"#000000\"/>\n<path class=\"note\" d=\"M 177.034 361.03 L 178.446 361.03 L 178.446 356.21 L 176.888 356.693 L 176.679 356.156 L 178.656 355.272 L 179.303 355.381 L 179.303 361.03 L 180.569 361.03 L 180.569 361.759 L 177.034 361.759 L 177.034 361.03 \" fill=\"#000000\"/>\n<path class=\"note\" d=\"M 129.889 336.803 Q 130.126 336.192, 130.691 335.855 Q 131.256 335.509, 132.04 335.509 Q 133.015 335.509, 133.561 336.037 Q 134.108 336.566, 134.108 337.504 Q 134.108 338.461, 133.397 339.354 Q 132.696 340.247, 131.238 341.304 L 134.217 341.304 L 134.217 342.033 L 129.871 342.033 L 129.871 341.422 Q 131.074 340.566, 131.785 339.928 Q 132.504 339.29, 132.851 338.716 Q 133.197 338.142, 133.197 337.55 Q 133.197 336.93, 132.887 336.584 Q 132.577 336.238, 132.04 336.238 Q 131.52 336.238, 131.174 336.447 Q 130.828 336.657, 130.582 337.122 L 129.889 336.803 \" fill=\"#000000\"/>\n<path class=\"note\" d=\"M 134.691 336.803 Q 134.928 336.192, 135.493 335.855 Q 136.058 335.509, 136.841 335.509 Q 137.816 335.509, 138.363 336.037 Q 138.91 336.566, 138.91 337.504 Q 138.91 338.461, 138.199 339.354 Q 137.497 340.247, 136.04 341.304 L 139.019 341.304 L 139.019 342.033 L 134.673 342.033 L 134.673 341.422 Q 135.876 340.566, 136.586 339.928 Q 137.306 339.29, 137.652 338.716 Q 137.998 338.142, 137.998 337.55 Q 137.998 336.93, 137.689 336.584 Q 137.379 336.238, 136.841 336.238 Q 136.322 336.238, 135.976 336.447 Q 135.63 336.657, 135.384 337.122 L 134.691 336.803 \" fill=\"#000000\"/>\n<path class=\"note\" d=\"M 103.356 303.923 Q 103.593 303.313, 104.158 302.976 Q 104.723 302.63, 105.506 302.63 Q 106.481 302.63, 107.028 303.158 Q 107.574 303.687, 107.574 304.625 Q 107.574 305.582, 106.864 306.475 Q 106.162 307.368, 104.704 308.424 L 107.684 308.424 L 107.684 309.153 L 103.338 309.153 L 103.338 308.543 Q 104.54 307.686, 105.251 307.049 Q 105.971 306.411, 106.317 305.837 Q 106.663 305.263, 106.663 304.671 Q 106.663 304.051, 106.353 303.705 Q 106.044 303.359, 105.506 303.359 Q 104.987 303.359, 104.641 303.568 Q 104.294 303.778, 104.048 304.242 L 103.356 303.923 \" fill=\"#000000\"/>\n<path class=\"note\" d=\"M 111.164 305.755 Q 111.793 305.937, 112.094 306.347 Q 112.403 306.748, 112.403 307.386 Q 112.403 307.932, 112.13 308.361 Q 111.857 308.78, 111.356 309.017 Q 110.854 309.244, 110.198 309.244 Q 109.506 309.244, 108.987 309.008 Q 108.476 308.762, 108.066 308.27 L 108.586 307.741 Q 108.987 308.178, 109.324 308.352 Q 109.661 308.516, 110.198 308.516 Q 110.782 308.516, 111.137 308.206 Q 111.492 307.887, 111.492 307.377 Q 111.492 306.721, 111.119 306.429 Q 110.754 306.128, 109.962 306.128 L 109.497 306.128 L 109.497 305.472 L 109.907 305.472 Q 110.608 305.463, 110.982 305.163 Q 111.356 304.853, 111.356 304.279 Q 111.356 303.86, 111.046 303.614 Q 110.736 303.359, 110.208 303.359 Q 109.67 303.359, 109.333 303.55 Q 109.005 303.741, 108.75 304.224 L 108.121 303.887 Q 108.349 303.349, 108.896 302.994 Q 109.442 302.63, 110.208 302.63 Q 111.155 302.63, 111.711 303.076 Q 112.267 303.523, 112.267 304.279 Q 112.267 304.798, 111.984 305.172 Q 111.702 305.545, 111.164 305.755 \" fill=\"#000000\"/>\n<path class=\"note\" d=\"M 49.9471 303.923 Q 50.184 303.313, 50.7489 302.976 Q 51.3138 302.63, 52.0973 302.63 Q 53.0722 302.63, 53.6189 303.158 Q 54.1656 303.687, 54.1656 304.625 Q 54.1656 305.582, 53.4549 306.475 Q 52.7533 307.368, 51.2955 308.424 L 54.2749 308.424 L 54.2749 309.153 L 49.9289 309.153 L 49.9289 308.543 Q 51.1315 307.686, 51.8422 307.049 Q 52.562 306.411, 52.9082 305.837 Q 53.2545 305.263, 53.2545 304.671 Q 53.2545 304.051, 52.9447 303.705 Q 52.6349 303.359, 52.0973 303.359 Q 51.578 303.359, 51.2318 303.568 Q 50.8855 303.778, 50.6395 304.242 L 49.9471 303.923 \" fill=\"#000000\"/>\n<path class=\"note\" d=\"M 58.7394 306.939 L 59.5139 306.939 L 59.5139 307.668 L 58.7394 307.668 L 58.7394 309.153 L 57.883 309.153 L 57.883 307.668 L 54.5483 307.668 L 54.5483 307.094 L 57.3728 302.703 L 58.7394 302.703 L 58.7394 306.939 M 55.6052 306.939 L 57.883 306.939 L 57.883 303.286 L 55.6052 306.939 \" fill=\"#000000\"/>\n<path class=\"note\" d=\"M 16.0077 349.954 Q 16.2446 349.343, 16.8095 349.006 Q 17.3744 348.66, 18.158 348.66 Q 19.1329 348.66, 19.6796 349.189 Q 20.2262 349.717, 20.2262 350.655 Q 20.2262 351.612, 19.5156 352.505 Q 18.814 353.398, 17.3562 354.455 L 20.3356 354.455 L 20.3356 355.184 L 15.9895 355.184 L 15.9895 354.573 Q 17.1922 353.717, 17.9029 353.079 Q 18.6227 352.441, 18.9689 351.867 Q 19.3151 351.293, 19.3151 350.701 Q 19.3151 350.081, 19.0053 349.735 Q 18.6955 349.389, 18.158 349.389 Q 17.6386 349.389, 17.2924 349.599 Q 16.9462 349.808, 16.7002 350.273 L 16.0077 349.954 \" fill=\"#000000\"/>\n<path class=\"note\" d=\"M 23.0963 351.147 Q 23.6612 351.147, 24.1259 351.393 Q 24.5905 351.63, 24.8548 352.086 Q 25.119 352.532, 25.119 353.143 Q 25.119 353.808, 24.791 354.291 Q 24.4721 354.765, 23.9436 355.011 Q 23.4152 355.257, 22.8138 355.257 Q 22.2216 355.257, 21.6749 355.038 Q 21.1282 354.819, 20.7547 354.4 L 21.3014 353.835 Q 21.602 354.163, 22.012 354.346 Q 22.422 354.519, 22.8412 354.519 Q 23.4152 354.519, 23.807 354.163 Q 24.2079 353.808, 24.2079 353.161 Q 24.2079 352.478, 23.807 352.159 Q 23.4152 351.831, 22.7865 351.831 Q 22.2216 351.831, 21.5929 352.077 L 21.0918 351.84 L 21.4016 348.733 L 24.7181 348.733 L 24.627 349.462 L 22.1487 349.462 L 21.9574 351.375 Q 22.5314 351.147, 23.0963 351.147 \" fill=\"#000000\"/>\n<path class=\"note\" d=\"M 50.0201 395.981 Q 50.257 395.37, 50.8219 395.033 Q 51.3868 394.687, 52.1703 394.687 Q 53.1452 394.687, 53.6919 395.216 Q 54.2386 395.744, 54.2386 396.682 Q 54.2386 397.639, 53.5279 398.532 Q 52.8263 399.425, 51.3685 400.482 L 54.3479 400.482 L 54.3479 401.211 L 50.0019 401.211 L 50.0019 400.6 Q 51.2045 399.744, 51.9152 399.106 Q 52.635 398.468, 52.9812 397.894 Q 53.3275 397.32, 53.3275 396.728 Q 53.3275 396.108, 53.0177 395.762 Q 52.7079 395.416, 52.1703 395.416 Q 51.651 395.416, 51.3048 395.626 Q 50.9585 395.835, 50.7125 396.3 L 50.0201 395.981 \" fill=\"#000000\"/>\n<path class=\"note\" d=\"M 57.4913 397.184 Q 58.0562 397.184, 58.5027 397.43 Q 58.9491 397.676, 59.1951 398.122 Q 59.4411 398.568, 59.4411 399.133 Q 59.4411 399.762, 59.1587 400.254 Q 58.8853 400.737, 58.3933 401.01 Q 57.9013 401.284, 57.2726 401.284 Q 56.1246 401.284, 55.5415 400.509 Q 54.9675 399.726, 54.9675 398.177 Q 54.9675 396.464, 55.6782 395.58 Q 56.398 394.687, 57.7738 394.687 Q 58.1747 394.687, 58.5118 394.778 Q 58.858 394.869, 59.186 395.061 L 58.8307 395.671 Q 58.3569 395.416, 57.7829 395.416 Q 56.8717 395.416, 56.4071 396.008 Q 55.9424 396.591, 55.8877 397.803 Q 56.2157 397.502, 56.6257 397.348 Q 57.0449 397.184, 57.4913 397.184 M 57.2817 400.537 Q 57.628 400.537, 57.9104 400.354 Q 58.202 400.172, 58.366 399.853 Q 58.53 399.534, 58.53 399.143 Q 58.53 398.568, 58.2111 398.24 Q 57.8922 397.912, 57.3273 397.912 Q 56.9355 397.912, 56.5437 398.076 Q 56.1611 398.231, 55.8877 398.505 Q 55.9242 399.571, 56.2613 400.054 Q 56.5984 400.537, 57.2817 400.537 \" fill=\"#000000\"/>\n<path class=\"note\" d=\"M 103.492 395.981 Q 103.729 395.37, 104.294 395.033 Q 104.859 394.687, 105.643 394.687 Q 106.618 394.687, 107.164 395.216 Q 107.711 395.744, 107.711 396.682 Q 107.711 397.639, 107 398.532 Q 106.299 399.425, 104.841 400.482 L 107.82 400.482 L 107.82 401.211 L 103.474 401.211 L 103.474 400.6 Q 104.677 399.744, 105.388 399.106 Q 106.107 398.468, 106.454 397.894 Q 106.8 397.32, 106.8 396.728 Q 106.8 396.108, 106.49 395.762 Q 106.18 395.416, 105.643 395.416 Q 105.123 395.416, 104.777 395.626 Q 104.431 395.835, 104.185 396.3 L 103.492 395.981 \" fill=\"#000000\"/>\n<path class=\"note\" d=\"M 111.365 395.489 L 107.984 395.489 L 107.984 394.76 L 112.267 394.76 L 112.267 395.407 L 109.661 401.211 L 108.786 401.211 L 111.365 395.489 \" fill=\"#000000\"/>\n<path class=\"note\" d=\"M 255.01 356.529 Q 255.246 355.919, 255.811 355.582 Q 256.376 355.235, 257.16 355.235 Q 258.135 355.235, 258.681 355.764 Q 259.228 356.292, 259.228 357.231 Q 259.228 358.187, 258.517 359.08 Q 257.816 359.973, 256.358 361.03 L 259.337 361.03 L 259.337 361.759 L 254.991 361.759 L 254.991 361.149 Q 256.194 360.292, 256.905 359.654 Q 257.624 359.016, 257.971 358.442 Q 258.317 357.868, 258.317 357.276 Q 258.317 356.657, 258.007 356.31 Q 257.697 355.964, 257.16 355.964 Q 256.64 355.964, 256.294 356.174 Q 255.948 356.383, 255.702 356.848 L 255.01 356.529 \" fill=\"#000000\"/>\n<path class=\"note\" d=\"M 263.191 358.342 Q 263.784 358.597, 264.121 358.98 Q 264.458 359.354, 264.458 359.991 Q 264.458 360.538, 264.175 360.966 Q 263.893 361.385, 263.383 361.622 Q 262.882 361.85, 262.217 361.85 Q 261.141 361.85, 260.522 361.358 Q 259.902 360.857, 259.902 359.991 Q 259.902 359.463, 260.176 359.071 Q 260.449 358.67, 261.014 358.37 Q 260.595 358.133, 260.367 357.786 Q 260.139 357.431, 260.139 356.884 Q 260.139 356.128, 260.686 355.682 Q 261.242 355.235, 262.18 355.235 Q 263.119 355.235, 263.665 355.682 Q 264.221 356.128, 264.221 356.884 Q 264.221 357.358, 263.957 357.714 Q 263.702 358.06, 263.191 358.342 M 262.18 355.919 Q 261.643 355.919, 261.342 356.174 Q 261.05 356.429, 261.05 356.884 Q 261.05 357.222, 261.251 357.449 Q 261.451 357.668, 261.734 357.796 Q 262.025 357.923, 262.581 358.114 Q 262.973 357.841, 263.137 357.55 Q 263.31 357.258, 263.31 356.884 Q 263.31 356.429, 263.009 356.174 Q 262.718 355.919, 262.18 355.919 M 262.217 361.167 Q 262.818 361.167, 263.182 360.848 Q 263.547 360.52, 263.547 359.982 Q 263.547 359.636, 263.355 359.417 Q 263.164 359.199, 262.873 359.071 Q 262.59 358.944, 262.08 358.78 L 261.67 358.643 Q 261.214 358.916, 261.014 359.244 Q 260.813 359.563, 260.813 359.982 Q 260.813 360.52, 261.196 360.848 Q 261.579 361.167, 262.217 361.167 \" fill=\"#000000\"/>\n<path class=\"note\" d=\"M 308.232 356.529 Q 308.468 355.919, 309.033 355.582 Q 309.598 355.235, 310.382 355.235 Q 311.357 355.235, 311.903 355.764 Q 312.45 356.292, 312.45 357.231 Q 312.45 358.187, 311.739 359.08 Q 311.038 359.973, 309.58 361.03 L 312.559 361.03 L 312.559 361.759 L 308.213 361.759 L 308.213 361.149 Q 309.416 360.292, 310.127 359.654 Q 310.846 359.016, 311.193 358.442 Q 311.539 357.868, 311.539 357.276 Q 311.539 356.657, 311.229 356.31 Q 310.919 355.964, 310.382 355.964 Q 309.862 355.964, 309.516 356.174 Q 309.17 356.383, 308.924 356.848 L 308.232 356.529 \" fill=\"#000000\"/>\n<path class=\"note\" d=\"M 315.229 355.235 Q 316.377 355.235, 316.951 356.019 Q 317.534 356.793, 317.534 358.342 Q 317.534 360.055, 316.814 360.948 Q 316.104 361.832, 314.728 361.832 Q 314.327 361.832, 313.981 361.741 Q 313.644 361.65, 313.316 361.458 L 313.671 360.848 Q 314.145 361.103, 314.719 361.103 Q 315.63 361.103, 316.095 360.52 Q 316.559 359.928, 316.614 358.716 Q 316.286 359.016, 315.867 359.18 Q 315.457 359.335, 315.01 359.335 Q 314.445 359.335, 313.999 359.089 Q 313.553 358.843, 313.307 358.397 Q 313.061 357.95, 313.061 357.386 Q 313.061 356.757, 313.334 356.274 Q 313.616 355.782, 314.108 355.509 Q 314.6 355.235, 315.229 355.235 M 313.972 357.376 Q 313.972 357.95, 314.291 358.278 Q 314.609 358.606, 315.174 358.606 Q 315.566 358.606, 315.949 358.452 Q 316.341 358.288, 316.614 358.014 Q 316.577 356.948, 316.24 356.465 Q 315.903 355.982, 315.22 355.982 Q 314.874 355.982, 314.582 356.165 Q 314.3 356.347, 314.136 356.666 Q 313.972 356.985, 313.972 357.376 \" fill=\"#000000\"/>\n</svg>"
          },
          "metadata": {},
          "execution_count": 15
        }
      ]
    },
    {
      "cell_type": "markdown",
      "metadata": {
        "id": "u_r-_7QIQn-G"
      },
      "source": [
        "\n",
        "\n",
        "> generate a fingerprint for this molecule and use our model to predict its activity (number of nitrogens). Note that the number of nitrogens is predicted to be 1.7, rather than 2.\n",
        "\n"
      ]
    },
    {
      "cell_type": "code",
      "metadata": {
        "colab": {
          "base_uri": "https://localhost:8080/"
        },
        "id": "_G58m58-QtDa",
        "outputId": "f84924af-c454-4b65-92b8-91a99465507f"
      },
      "source": [
        "example_fp = AllChem.GetMorganFingerprintAsBitVect(example_mol,2)\n",
        "example_pred = xgb.predict(np.array([example_fp]))[0]\n",
        "example_pred"
      ],
      "execution_count": 16,
      "outputs": [
        {
          "output_type": "execute_result",
          "data": {
            "text/plain": [
              "1.7000709"
            ]
          },
          "metadata": {},
          "execution_count": 16
        }
      ]
    },
    {
      "cell_type": "markdown",
      "metadata": {
        "id": "7deMpEtRVkyv"
      },
      "source": [
        "**Mask each atom to identify the contributions of each atom onto prediction of the molecule's activity.**"
      ]
    },
    {
      "cell_type": "markdown",
      "metadata": {
        "id": "OZfIXs_aRQrX"
      },
      "source": [
        "One way of assessing the importance of atoms to a predicted activity is to **\"mask\" each atom** and predict the activity using a fingerprint generated with the masked atom. If the prediction with the \"masked\" atom is similar to the prediction with the original molecule, that atom has little impact on the prediction. On the other hand, if masking the atom makes a large change in the prediction, we consider that atom important. We can use the function SimilarityMaps.GetMorganFingerprint to generate a fingerprint with an atom masked. This function takes two arguments, the input molecule, and the index of the atom to be masked."
      ]
    },
    {
      "cell_type": "markdown",
      "metadata": {
        "id": "_eU5PXC3RqaQ"
      },
      "source": [
        "below, it loops over atoms, generates a fingerprint with each atom masked, and generates a prediction with the masked fingerprint. At each iteration, it records the predicted activity and \"delta\", the difference between the activity of the original molecule with no atoms masked and the new molecule with one atom masked. This data is collected and displayed in a dataframe that is sorted by delta. As it can be seen in the resulting table, the two nitrogen atoms 18 and 22, have the highest values for delta"
      ]
    },
    {
      "cell_type": "code",
      "metadata": {
        "colab": {
          "base_uri": "https://localhost:8080/",
          "height": 985
        },
        "id": "l01UD-U_Riod",
        "outputId": "4cc3b42a-3a93-40c9-b571-c12d7c0dc0a3"
      },
      "source": [
        "res = []\n",
        "for atm in example_mol.GetAtoms():\n",
        "    idx = atm.GetIdx()\n",
        "    fp = SimilarityMaps.GetMorganFingerprint(example_mol,idx)\n",
        "    pred_val = xgb.predict(np.array([fp]))[0]\n",
        "    delta = example_pred - pred_val\n",
        "    res.append([atm.GetSymbol(),idx,pred_val,delta])\n",
        "tmp_df = pd.DataFrame(res,columns = [\"Atom Type\",\"Atom Index\",\"Predicted Value\",\"Delta\"])\n",
        "tmp_df.sort_values(\"Delta\",ascending=False)"
      ],
      "execution_count": 17,
      "outputs": [
        {
          "output_type": "execute_result",
          "data": {
            "text/html": [
              "<div>\n",
              "<style scoped>\n",
              "    .dataframe tbody tr th:only-of-type {\n",
              "        vertical-align: middle;\n",
              "    }\n",
              "\n",
              "    .dataframe tbody tr th {\n",
              "        vertical-align: top;\n",
              "    }\n",
              "\n",
              "    .dataframe thead th {\n",
              "        text-align: right;\n",
              "    }\n",
              "</style>\n",
              "<table border=\"1\" class=\"dataframe\">\n",
              "  <thead>\n",
              "    <tr style=\"text-align: right;\">\n",
              "      <th></th>\n",
              "      <th>Atom Type</th>\n",
              "      <th>Atom Index</th>\n",
              "      <th>Predicted Value</th>\n",
              "      <th>Delta</th>\n",
              "    </tr>\n",
              "  </thead>\n",
              "  <tbody>\n",
              "    <tr>\n",
              "      <th>22</th>\n",
              "      <td>N</td>\n",
              "      <td>22</td>\n",
              "      <td>0.833391</td>\n",
              "      <td>0.866679</td>\n",
              "    </tr>\n",
              "    <tr>\n",
              "      <th>18</th>\n",
              "      <td>N</td>\n",
              "      <td>18</td>\n",
              "      <td>0.895023</td>\n",
              "      <td>0.805048</td>\n",
              "    </tr>\n",
              "    <tr>\n",
              "      <th>27</th>\n",
              "      <td>C</td>\n",
              "      <td>27</td>\n",
              "      <td>1.533585</td>\n",
              "      <td>0.166486</td>\n",
              "    </tr>\n",
              "    <tr>\n",
              "      <th>23</th>\n",
              "      <td>C</td>\n",
              "      <td>23</td>\n",
              "      <td>1.533585</td>\n",
              "      <td>0.166486</td>\n",
              "    </tr>\n",
              "    <tr>\n",
              "      <th>29</th>\n",
              "      <td>C</td>\n",
              "      <td>29</td>\n",
              "      <td>1.570431</td>\n",
              "      <td>0.129640</td>\n",
              "    </tr>\n",
              "    <tr>\n",
              "      <th>28</th>\n",
              "      <td>C</td>\n",
              "      <td>28</td>\n",
              "      <td>1.570431</td>\n",
              "      <td>0.129640</td>\n",
              "    </tr>\n",
              "    <tr>\n",
              "      <th>26</th>\n",
              "      <td>C</td>\n",
              "      <td>26</td>\n",
              "      <td>1.570431</td>\n",
              "      <td>0.129640</td>\n",
              "    </tr>\n",
              "    <tr>\n",
              "      <th>24</th>\n",
              "      <td>C</td>\n",
              "      <td>24</td>\n",
              "      <td>1.570431</td>\n",
              "      <td>0.129640</td>\n",
              "    </tr>\n",
              "    <tr>\n",
              "      <th>21</th>\n",
              "      <td>C</td>\n",
              "      <td>21</td>\n",
              "      <td>1.638439</td>\n",
              "      <td>0.061631</td>\n",
              "    </tr>\n",
              "    <tr>\n",
              "      <th>19</th>\n",
              "      <td>C</td>\n",
              "      <td>19</td>\n",
              "      <td>1.675285</td>\n",
              "      <td>0.024786</td>\n",
              "    </tr>\n",
              "    <tr>\n",
              "      <th>20</th>\n",
              "      <td>O</td>\n",
              "      <td>20</td>\n",
              "      <td>1.700071</td>\n",
              "      <td>0.000000</td>\n",
              "    </tr>\n",
              "    <tr>\n",
              "      <th>0</th>\n",
              "      <td>C</td>\n",
              "      <td>0</td>\n",
              "      <td>1.700071</td>\n",
              "      <td>0.000000</td>\n",
              "    </tr>\n",
              "    <tr>\n",
              "      <th>15</th>\n",
              "      <td>F</td>\n",
              "      <td>15</td>\n",
              "      <td>1.700071</td>\n",
              "      <td>0.000000</td>\n",
              "    </tr>\n",
              "    <tr>\n",
              "      <th>7</th>\n",
              "      <td>C</td>\n",
              "      <td>7</td>\n",
              "      <td>1.700071</td>\n",
              "      <td>0.000000</td>\n",
              "    </tr>\n",
              "    <tr>\n",
              "      <th>2</th>\n",
              "      <td>C</td>\n",
              "      <td>2</td>\n",
              "      <td>1.700071</td>\n",
              "      <td>0.000000</td>\n",
              "    </tr>\n",
              "    <tr>\n",
              "      <th>3</th>\n",
              "      <td>C</td>\n",
              "      <td>3</td>\n",
              "      <td>1.700071</td>\n",
              "      <td>0.000000</td>\n",
              "    </tr>\n",
              "    <tr>\n",
              "      <th>4</th>\n",
              "      <td>C</td>\n",
              "      <td>4</td>\n",
              "      <td>1.700071</td>\n",
              "      <td>0.000000</td>\n",
              "    </tr>\n",
              "    <tr>\n",
              "      <th>5</th>\n",
              "      <td>C</td>\n",
              "      <td>5</td>\n",
              "      <td>1.700071</td>\n",
              "      <td>0.000000</td>\n",
              "    </tr>\n",
              "    <tr>\n",
              "      <th>6</th>\n",
              "      <td>C</td>\n",
              "      <td>6</td>\n",
              "      <td>1.700071</td>\n",
              "      <td>0.000000</td>\n",
              "    </tr>\n",
              "    <tr>\n",
              "      <th>9</th>\n",
              "      <td>C</td>\n",
              "      <td>9</td>\n",
              "      <td>1.700071</td>\n",
              "      <td>0.000000</td>\n",
              "    </tr>\n",
              "    <tr>\n",
              "      <th>25</th>\n",
              "      <td>O</td>\n",
              "      <td>25</td>\n",
              "      <td>1.725795</td>\n",
              "      <td>-0.025724</td>\n",
              "    </tr>\n",
              "    <tr>\n",
              "      <th>12</th>\n",
              "      <td>C</td>\n",
              "      <td>12</td>\n",
              "      <td>1.733193</td>\n",
              "      <td>-0.033122</td>\n",
              "    </tr>\n",
              "    <tr>\n",
              "      <th>13</th>\n",
              "      <td>C</td>\n",
              "      <td>13</td>\n",
              "      <td>1.733193</td>\n",
              "      <td>-0.033122</td>\n",
              "    </tr>\n",
              "    <tr>\n",
              "      <th>10</th>\n",
              "      <td>C</td>\n",
              "      <td>10</td>\n",
              "      <td>1.733193</td>\n",
              "      <td>-0.033122</td>\n",
              "    </tr>\n",
              "    <tr>\n",
              "      <th>11</th>\n",
              "      <td>C</td>\n",
              "      <td>11</td>\n",
              "      <td>1.733193</td>\n",
              "      <td>-0.033122</td>\n",
              "    </tr>\n",
              "    <tr>\n",
              "      <th>17</th>\n",
              "      <td>C</td>\n",
              "      <td>17</td>\n",
              "      <td>1.733193</td>\n",
              "      <td>-0.033122</td>\n",
              "    </tr>\n",
              "    <tr>\n",
              "      <th>16</th>\n",
              "      <td>C</td>\n",
              "      <td>16</td>\n",
              "      <td>1.733193</td>\n",
              "      <td>-0.033122</td>\n",
              "    </tr>\n",
              "    <tr>\n",
              "      <th>14</th>\n",
              "      <td>C</td>\n",
              "      <td>14</td>\n",
              "      <td>1.733193</td>\n",
              "      <td>-0.033122</td>\n",
              "    </tr>\n",
              "    <tr>\n",
              "      <th>1</th>\n",
              "      <td>O</td>\n",
              "      <td>1</td>\n",
              "      <td>1.788460</td>\n",
              "      <td>-0.088390</td>\n",
              "    </tr>\n",
              "    <tr>\n",
              "      <th>8</th>\n",
              "      <td>O</td>\n",
              "      <td>8</td>\n",
              "      <td>1.788460</td>\n",
              "      <td>-0.088390</td>\n",
              "    </tr>\n",
              "  </tbody>\n",
              "</table>\n",
              "</div>"
            ],
            "text/plain": [
              "   Atom Type  Atom Index  Predicted Value     Delta\n",
              "22         N          22         0.833391  0.866679\n",
              "18         N          18         0.895023  0.805048\n",
              "27         C          27         1.533585  0.166486\n",
              "23         C          23         1.533585  0.166486\n",
              "29         C          29         1.570431  0.129640\n",
              "28         C          28         1.570431  0.129640\n",
              "26         C          26         1.570431  0.129640\n",
              "24         C          24         1.570431  0.129640\n",
              "21         C          21         1.638439  0.061631\n",
              "19         C          19         1.675285  0.024786\n",
              "20         O          20         1.700071  0.000000\n",
              "0          C           0         1.700071  0.000000\n",
              "15         F          15         1.700071  0.000000\n",
              "7          C           7         1.700071  0.000000\n",
              "2          C           2         1.700071  0.000000\n",
              "3          C           3         1.700071  0.000000\n",
              "4          C           4         1.700071  0.000000\n",
              "5          C           5         1.700071  0.000000\n",
              "6          C           6         1.700071  0.000000\n",
              "9          C           9         1.700071  0.000000\n",
              "25         O          25         1.725795 -0.025724\n",
              "12         C          12         1.733193 -0.033122\n",
              "13         C          13         1.733193 -0.033122\n",
              "10         C          10         1.733193 -0.033122\n",
              "11         C          11         1.733193 -0.033122\n",
              "17         C          17         1.733193 -0.033122\n",
              "16         C          16         1.733193 -0.033122\n",
              "14         C          14         1.733193 -0.033122\n",
              "1          O           1         1.788460 -0.088390\n",
              "8          O           8         1.788460 -0.088390"
            ]
          },
          "metadata": {},
          "execution_count": 17
        }
      ]
    },
    {
      "cell_type": "markdown",
      "metadata": {
        "id": "P1R3Xe4hVrfp"
      },
      "source": [
        "**use the SimilarityMaps feature from the RDKit to project the importance of each atom onto the chemical structure**"
      ]
    },
    {
      "cell_type": "markdown",
      "metadata": {
        "id": "TFjrQmfTV6Ob"
      },
      "source": [
        "The darker colored atoms are considered to be more important"
      ]
    },
    {
      "cell_type": "code",
      "metadata": {
        "id": "YRaq6swNW-X3"
      },
      "source": [
        "def show_png(data):\n",
        "    bio = io.BytesIO(data)\n",
        "    img = Image.open(bio)\n",
        "    return img\n",
        "\n",
        "def get_pred(fp, pred_function):\n",
        "    fp = np.array([list(fp)])\n",
        "    return pred_function(fp)[0]\n",
        "\n",
        "def plot_similarity_map(mol, model):\n",
        "    d = Draw.MolDraw2DCairo(400, 400)\n",
        "    SimilarityMaps.GetSimilarityMapForModel(mol,\n",
        "                                            SimilarityMaps.GetMorganFingerprint,\n",
        "                                            lambda x : get_pred(x, model.predict),\n",
        "                                            draw2d=d)\n",
        "    d.FinishDrawing()\n",
        "    return d"
      ],
      "execution_count": 18,
      "outputs": []
    },
    {
      "cell_type": "markdown",
      "metadata": {
        "id": "I4EiK9m0XGg-"
      },
      "source": [
        "Display the similarity map for the predictions. The variable test_row in the table below corresponds to the row in df_test that will be displayed"
      ]
    },
    {
      "cell_type": "code",
      "metadata": {
        "colab": {
          "base_uri": "https://localhost:8080/",
          "height": 417
        },
        "id": "JspS77BCXYvS",
        "outputId": "3c0b0143-4acc-4bff-9e1b-b2c8086b1e67"
      },
      "source": [
        "test_row = 1\n",
        "test_mol = df_test.ROMol.values[test_row]\n",
        "res = plot_similarity_map(test_mol,xgb);\n",
        "show_png(res.GetDrawingText())"
      ],
      "execution_count": 19,
      "outputs": [
        {
          "output_type": "execute_result",
          "data": {
            "image/png": "[encoded data removed]",
            "text/plain": [
              "<PIL.PngImagePlugin.PngImageFile image mode=RGB size=400x400 at 0x7FE2D41B09D0>"
            ]
          },
          "metadata": {},
          "execution_count": 19
        }
      ]
    },
    {
      "cell_type": "markdown",
      "metadata": {
        "id": "oIiDg5wwX4Kp"
      },
      "source": [
        "**Evaluating the Interpretations**"
      ]
    },
    {
      "cell_type": "markdown",
      "metadata": {
        "id": "m6E8UmbgX6Do"
      },
      "source": [
        "The function SimilarityMaps.GetAtomicWeightsForModel wraps the masking operation described above into a single line of code"
      ]
    },
    {
      "cell_type": "code",
      "metadata": {
        "id": "O9scO0k5Z0W2"
      },
      "source": [
        "aw = SimilarityMaps.GetAtomicWeightsForModel(test_mol,\n",
        "                                        SimilarityMaps.GetMorganFingerprint,\n",
        "                                        lambda x : get_pred(x, xgb.predict))\n",
        "aw = np.array(aw)"
      ],
      "execution_count": 20,
      "outputs": []
    },
    {
      "cell_type": "markdown",
      "metadata": {
        "id": "eTcSQRS0aK67"
      },
      "source": [
        "Convert the weights and associated atom types to a dataframe. For the test molecule in row 1, the two nitrogens have the largest weights."
      ]
    },
    {
      "cell_type": "code",
      "metadata": {
        "colab": {
          "base_uri": "https://localhost:8080/",
          "height": 954
        },
        "id": "CIJoK2vJaKgs",
        "outputId": "972967bd-6545-41a2-f253-256d722e7fad"
      },
      "source": [
        "wt_df = pd.DataFrame(zip([atm.GetSymbol() for atm in test_mol.GetAtoms()],aw),columns=[\"Symbol\",\"Weight\"])\n",
        "wt_df.sort_values(\"Weight\",ascending=False)"
      ],
      "execution_count": 21,
      "outputs": [
        {
          "output_type": "execute_result",
          "data": {
            "text/html": [
              "<div>\n",
              "<style scoped>\n",
              "    .dataframe tbody tr th:only-of-type {\n",
              "        vertical-align: middle;\n",
              "    }\n",
              "\n",
              "    .dataframe tbody tr th {\n",
              "        vertical-align: top;\n",
              "    }\n",
              "\n",
              "    .dataframe thead th {\n",
              "        text-align: right;\n",
              "    }\n",
              "</style>\n",
              "<table border=\"1\" class=\"dataframe\">\n",
              "  <thead>\n",
              "    <tr style=\"text-align: right;\">\n",
              "      <th></th>\n",
              "      <th>Symbol</th>\n",
              "      <th>Weight</th>\n",
              "    </tr>\n",
              "  </thead>\n",
              "  <tbody>\n",
              "    <tr>\n",
              "      <th>10</th>\n",
              "      <td>N</td>\n",
              "      <td>0.728125</td>\n",
              "    </tr>\n",
              "    <tr>\n",
              "      <th>26</th>\n",
              "      <td>N</td>\n",
              "      <td>0.614410</td>\n",
              "    </tr>\n",
              "    <tr>\n",
              "      <th>24</th>\n",
              "      <td>C</td>\n",
              "      <td>0.054679</td>\n",
              "    </tr>\n",
              "    <tr>\n",
              "      <th>21</th>\n",
              "      <td>C</td>\n",
              "      <td>0.054679</td>\n",
              "    </tr>\n",
              "    <tr>\n",
              "      <th>25</th>\n",
              "      <td>C</td>\n",
              "      <td>0.054679</td>\n",
              "    </tr>\n",
              "    <tr>\n",
              "      <th>19</th>\n",
              "      <td>C</td>\n",
              "      <td>0.054679</td>\n",
              "    </tr>\n",
              "    <tr>\n",
              "      <th>23</th>\n",
              "      <td>C</td>\n",
              "      <td>0.033696</td>\n",
              "    </tr>\n",
              "    <tr>\n",
              "      <th>2</th>\n",
              "      <td>C</td>\n",
              "      <td>0.031062</td>\n",
              "    </tr>\n",
              "    <tr>\n",
              "      <th>3</th>\n",
              "      <td>C</td>\n",
              "      <td>0.031062</td>\n",
              "    </tr>\n",
              "    <tr>\n",
              "      <th>7</th>\n",
              "      <td>C</td>\n",
              "      <td>0.031062</td>\n",
              "    </tr>\n",
              "    <tr>\n",
              "      <th>8</th>\n",
              "      <td>C</td>\n",
              "      <td>0.031062</td>\n",
              "    </tr>\n",
              "    <tr>\n",
              "      <th>1</th>\n",
              "      <td>C</td>\n",
              "      <td>0.031062</td>\n",
              "    </tr>\n",
              "    <tr>\n",
              "      <th>20</th>\n",
              "      <td>C</td>\n",
              "      <td>0.020983</td>\n",
              "    </tr>\n",
              "    <tr>\n",
              "      <th>12</th>\n",
              "      <td>C</td>\n",
              "      <td>0.020983</td>\n",
              "    </tr>\n",
              "    <tr>\n",
              "      <th>11</th>\n",
              "      <td>C</td>\n",
              "      <td>0.020983</td>\n",
              "    </tr>\n",
              "    <tr>\n",
              "      <th>22</th>\n",
              "      <td>Cl</td>\n",
              "      <td>0.000000</td>\n",
              "    </tr>\n",
              "    <tr>\n",
              "      <th>27</th>\n",
              "      <td>C</td>\n",
              "      <td>0.000000</td>\n",
              "    </tr>\n",
              "    <tr>\n",
              "      <th>0</th>\n",
              "      <td>C</td>\n",
              "      <td>0.000000</td>\n",
              "    </tr>\n",
              "    <tr>\n",
              "      <th>14</th>\n",
              "      <td>C</td>\n",
              "      <td>0.000000</td>\n",
              "    </tr>\n",
              "    <tr>\n",
              "      <th>18</th>\n",
              "      <td>F</td>\n",
              "      <td>0.000000</td>\n",
              "    </tr>\n",
              "    <tr>\n",
              "      <th>17</th>\n",
              "      <td>C</td>\n",
              "      <td>0.000000</td>\n",
              "    </tr>\n",
              "    <tr>\n",
              "      <th>16</th>\n",
              "      <td>C</td>\n",
              "      <td>0.000000</td>\n",
              "    </tr>\n",
              "    <tr>\n",
              "      <th>15</th>\n",
              "      <td>C</td>\n",
              "      <td>0.000000</td>\n",
              "    </tr>\n",
              "    <tr>\n",
              "      <th>13</th>\n",
              "      <td>C</td>\n",
              "      <td>0.000000</td>\n",
              "    </tr>\n",
              "    <tr>\n",
              "      <th>9</th>\n",
              "      <td>C</td>\n",
              "      <td>0.000000</td>\n",
              "    </tr>\n",
              "    <tr>\n",
              "      <th>6</th>\n",
              "      <td>O</td>\n",
              "      <td>0.000000</td>\n",
              "    </tr>\n",
              "    <tr>\n",
              "      <th>5</th>\n",
              "      <td>C</td>\n",
              "      <td>0.000000</td>\n",
              "    </tr>\n",
              "    <tr>\n",
              "      <th>28</th>\n",
              "      <td>O</td>\n",
              "      <td>0.000000</td>\n",
              "    </tr>\n",
              "    <tr>\n",
              "      <th>4</th>\n",
              "      <td>O</td>\n",
              "      <td>-0.018202</td>\n",
              "    </tr>\n",
              "  </tbody>\n",
              "</table>\n",
              "</div>"
            ],
            "text/plain": [
              "   Symbol    Weight\n",
              "10      N  0.728125\n",
              "26      N  0.614410\n",
              "24      C  0.054679\n",
              "21      C  0.054679\n",
              "25      C  0.054679\n",
              "19      C  0.054679\n",
              "23      C  0.033696\n",
              "2       C  0.031062\n",
              "3       C  0.031062\n",
              "7       C  0.031062\n",
              "8       C  0.031062\n",
              "1       C  0.031062\n",
              "20      C  0.020983\n",
              "12      C  0.020983\n",
              "11      C  0.020983\n",
              "22     Cl  0.000000\n",
              "27      C  0.000000\n",
              "0       C  0.000000\n",
              "14      C  0.000000\n",
              "18      F  0.000000\n",
              "17      C  0.000000\n",
              "16      C  0.000000\n",
              "15      C  0.000000\n",
              "13      C  0.000000\n",
              "9       C  0.000000\n",
              "6       O  0.000000\n",
              "5       C  0.000000\n",
              "28      O  0.000000\n",
              "4       O -0.018202"
            ]
          },
          "metadata": {},
          "execution_count": 21
        }
      ]
    },
    {
      "cell_type": "markdown",
      "metadata": {
        "id": "Mi7GS1VcaWzm"
      },
      "source": [
        "compare the weights with the \"correct\" weights, which are in the \"lbls\" field of the dataframe."
      ]
    },
    {
      "cell_type": "code",
      "metadata": {
        "id": "yaSNsyBdaXzJ"
      },
      "source": [
        "test_labels = df_test.lbls[test_row]\n",
        "test_label_array = np.fromstring(test_labels,sep=\",\",dtype=int)"
      ],
      "execution_count": 22,
      "outputs": []
    },
    {
      "cell_type": "code",
      "metadata": {
        "colab": {
          "base_uri": "https://localhost:8080/"
        },
        "id": "PC0jFp7Nafke",
        "outputId": "b610c09e-fc5e-4c73-86ca-54a58b94a08d"
      },
      "source": [
        "test_label_array"
      ],
      "execution_count": 23,
      "outputs": [
        {
          "output_type": "execute_result",
          "data": {
            "text/plain": [
              "array([0, 0, 0, 0, 0, 0, 0, 0, 0, 0, 1, 0, 0, 0, 0, 0, 0, 0, 0, 0, 0, 0,\n",
              "       0, 0, 0, 0, 1, 0, 0])"
            ]
          },
          "metadata": {},
          "execution_count": 23
        }
      ]
    },
    {
      "cell_type": "markdown",
      "metadata": {
        "id": "QLiG6FUkavHP"
      },
      "source": [
        "One of the simplest ways is to compare the predicted and actual weights is to treat this as a classification problem and calculate the area under the Receiver Operating Characteristic (ROC) curve, which plots the false positive rate vs the true positive rate"
      ]
    },
    {
      "cell_type": "code",
      "metadata": {
        "colab": {
          "base_uri": "https://localhost:8080/",
          "height": 301
        },
        "id": "PVAMfR1lat_L",
        "outputId": "29809c15-6b57-4e85-d471-01990a877820"
      },
      "source": [
        "sns.set_context('talk')\n",
        "fpr, tpr, thresholds = roc_curve(test_label_array, aw)\n",
        "ax = sns.lineplot(x=fpr,y=tpr)\n",
        "ax.set_xlabel(\"False Positive Rate\")\n",
        "ax.set_ylabel(\"True Positive Rate\");"
      ],
      "execution_count": 24,
      "outputs": [
        {
          "output_type": "display_data",
          "data": {
            "image/png": "[encoded data removed]",
            "text/plain": [
              "<Figure size 432x288 with 1 Axes>"
            ]
          },
          "metadata": {
            "needs_background": "light"
          }
        }
      ]
    },
    {
      "cell_type": "markdown",
      "metadata": {
        "id": "ZsoUauvnbMLa"
      },
      "source": [
        "use sklearn to calculate the area under the ROC curve"
      ]
    },
    {
      "cell_type": "code",
      "metadata": {
        "colab": {
          "base_uri": "https://localhost:8080/"
        },
        "id": "VlcK5PbobNzh",
        "outputId": "2f5d122a-61c2-4f6b-aab4-fde6d5956197"
      },
      "source": [
        "roc_auc_score(test_label_array,aw)"
      ],
      "execution_count": 25,
      "outputs": [
        {
          "output_type": "execute_result",
          "data": {
            "text/plain": [
              "1.0"
            ]
          },
          "metadata": {},
          "execution_count": 25
        }
      ]
    },
    {
      "cell_type": "markdown",
      "metadata": {
        "id": "OqWeu_DwbiHJ"
      },
      "source": [
        "AUC considers the weights on all atoms. If only interested in the \"top N\" predictions, use this Python function to calcuate the top_n score for a molecule "
      ]
    },
    {
      "cell_type": "code",
      "metadata": {
        "id": "jDpKIQdrbrfK"
      },
      "source": [
        "def top_n(ref, pred):\n",
        "    n = int(np.sum(ref))\n",
        "    top_ref_idx = ref.argsort()[-n:][::-1]\n",
        "    top_pred_idx = pred.argsort()[-n:][::-1]\n",
        "    num_common = len(set(top_ref_idx).intersection(set(top_pred_idx)))\n",
        "    return num_common/float(n)"
      ],
      "execution_count": 26,
      "outputs": []
    },
    {
      "cell_type": "markdown",
      "metadata": {
        "id": "jmOxC45DbxDd"
      },
      "source": [
        "calculate the AUC and top_n score for the first 100 test molecules. also save a list of molecules with a top_n_score < 1.0 to examine it later."
      ]
    },
    {
      "cell_type": "code",
      "metadata": {
        "colab": {
          "base_uri": "https://localhost:8080/",
          "height": 83,
          "referenced_widgets": [
            "25970fcf7c3b414c988f081696b37ac0",
            "1d506721de9843a2a9e6974e2f6e0e20",
            "e814611208e44067975ffe03ac1d52d6",
            "92d04cf9c017408aa87463c8b8b5b710",
            "d15bf0487ca642a486c07a7d229028c7",
            "1da01bbc134947679695d0acca61c43e",
            "5abc72e036014fa59ff891bc3cd01cc4",
            "e9ca6b3e5745433b978a8733b66b2284",
            "15acc3cb10f0425482a713b28adca745",
            "59ee6248a6424780831be7a58b68fe88",
            "025501221c6a4c929473489f3785ee60"
          ]
        },
        "id": "2SvKdHWBcNPz",
        "outputId": "d0e397e6-3e3a-4a23-fdd8-8a6f6a694896"
      },
      "source": [
        "auc_list = []\n",
        "top_n_score_list = []\n",
        "top_n_lt_1_list = []\n",
        "idx = 0\n",
        "for mol, label in tqdm(df_test[[\"ROMol\",\"lbls\"]].head(100).values):\n",
        "    aw = SimilarityMaps.GetAtomicWeightsForModel(mol,\n",
        "                                        SimilarityMaps.GetMorganFingerprint,\n",
        "                                        lambda x : get_pred(x, xgb.predict))\n",
        "    if label != \"NA\":\n",
        "        label_array = np.fromstring(label,sep=\",\",dtype=int)\n",
        "        auc_list.append(roc_auc_score(label_array,aw))\n",
        "        top_n_score = top_n(label_array,np.array(aw))\n",
        "        top_n_score_list.append(top_n_score)\n",
        "        if top_n_score < 1:\n",
        "            top_n_lt_1_list.append([idx,top_n_score])\n",
        "    idx+=1\n",
        "print(f\"Mean AUC = {np.mean(auc_list):.2f}\")\n",
        "print(f\"Mean top_n = {np.mean(top_n_score_list):.2f}\")"
      ],
      "execution_count": 27,
      "outputs": [
        {
          "output_type": "display_data",
          "data": {
            "application/vnd.jupyter.widget-view+json": {
              "model_id": "25970fcf7c3b414c988f081696b37ac0",
              "version_minor": 0,
              "version_major": 2
            },
            "text/plain": [
              "  0%|          | 0/100 [00:00<?, ?it/s]"
            ]
          },
          "metadata": {}
        },
        {
          "output_type": "stream",
          "name": "stdout",
          "text": [
            "Mean AUC = 0.99\n",
            "Mean top_n = 0.95\n"
          ]
        }
      ]
    },
    {
      "cell_type": "markdown",
      "metadata": {
        "id": "ulKDbNv2chDo"
      },
      "source": [
        "Create a dataframe with the rows where the top_n score was less than 1. It's interesting that in 10 of 100 cases, it fails to assign the nitrogens atoms as critical features."
      ]
    },
    {
      "cell_type": "code",
      "metadata": {
        "colab": {
          "base_uri": "https://localhost:8080/",
          "height": 392
        },
        "id": "hb7DMEkpcopX",
        "outputId": "2a30641a-31bb-4702-d515-6bd93d052c06"
      },
      "source": [
        "pd.DataFrame(top_n_lt_1_list,columns=[\"Row\",\"Top_n_score\"])"
      ],
      "execution_count": 28,
      "outputs": [
        {
          "output_type": "execute_result",
          "data": {
            "text/html": [
              "<div>\n",
              "<style scoped>\n",
              "    .dataframe tbody tr th:only-of-type {\n",
              "        vertical-align: middle;\n",
              "    }\n",
              "\n",
              "    .dataframe tbody tr th {\n",
              "        vertical-align: top;\n",
              "    }\n",
              "\n",
              "    .dataframe thead th {\n",
              "        text-align: right;\n",
              "    }\n",
              "</style>\n",
              "<table border=\"1\" class=\"dataframe\">\n",
              "  <thead>\n",
              "    <tr style=\"text-align: right;\">\n",
              "      <th></th>\n",
              "      <th>Row</th>\n",
              "      <th>Top_n_score</th>\n",
              "    </tr>\n",
              "  </thead>\n",
              "  <tbody>\n",
              "    <tr>\n",
              "      <th>0</th>\n",
              "      <td>7</td>\n",
              "      <td>0.500000</td>\n",
              "    </tr>\n",
              "    <tr>\n",
              "      <th>1</th>\n",
              "      <td>10</td>\n",
              "      <td>0.750000</td>\n",
              "    </tr>\n",
              "    <tr>\n",
              "      <th>2</th>\n",
              "      <td>33</td>\n",
              "      <td>0.666667</td>\n",
              "    </tr>\n",
              "    <tr>\n",
              "      <th>3</th>\n",
              "      <td>44</td>\n",
              "      <td>0.666667</td>\n",
              "    </tr>\n",
              "    <tr>\n",
              "      <th>4</th>\n",
              "      <td>60</td>\n",
              "      <td>0.000000</td>\n",
              "    </tr>\n",
              "    <tr>\n",
              "      <th>5</th>\n",
              "      <td>66</td>\n",
              "      <td>0.500000</td>\n",
              "    </tr>\n",
              "    <tr>\n",
              "      <th>6</th>\n",
              "      <td>67</td>\n",
              "      <td>0.500000</td>\n",
              "    </tr>\n",
              "    <tr>\n",
              "      <th>7</th>\n",
              "      <td>68</td>\n",
              "      <td>0.666667</td>\n",
              "    </tr>\n",
              "    <tr>\n",
              "      <th>8</th>\n",
              "      <td>84</td>\n",
              "      <td>0.750000</td>\n",
              "    </tr>\n",
              "    <tr>\n",
              "      <th>9</th>\n",
              "      <td>87</td>\n",
              "      <td>0.666667</td>\n",
              "    </tr>\n",
              "    <tr>\n",
              "      <th>10</th>\n",
              "      <td>94</td>\n",
              "      <td>0.666667</td>\n",
              "    </tr>\n",
              "  </tbody>\n",
              "</table>\n",
              "</div>"
            ],
            "text/plain": [
              "    Row  Top_n_score\n",
              "0     7     0.500000\n",
              "1    10     0.750000\n",
              "2    33     0.666667\n",
              "3    44     0.666667\n",
              "4    60     0.000000\n",
              "5    66     0.500000\n",
              "6    67     0.500000\n",
              "7    68     0.666667\n",
              "8    84     0.750000\n",
              "9    87     0.666667\n",
              "10   94     0.666667"
            ]
          },
          "metadata": {},
          "execution_count": 28
        }
      ]
    },
    {
      "cell_type": "markdown",
      "metadata": {
        "id": "1kNLqJ6PdM3I"
      },
      "source": [
        "define a debugging function that will enable us to compare the top n predictions with the top n labels"
      ]
    },
    {
      "cell_type": "code",
      "metadata": {
        "id": "D5sIsELfdLVR"
      },
      "source": [
        "def debug_row(df, idx):\n",
        "    red = (1,0,0)\n",
        "    blue = (0,0,1)\n",
        "    mol = df.loc[[idx]].ROMol.values[0]\n",
        "    mol = Chem.Mol(mol)\n",
        "    label = df.loc[idx].lbls\n",
        "    label_array = np.fromstring(label,sep=\",\",dtype=int)\n",
        "    n = int(sum(label_array))        \n",
        "    aw = SimilarityMaps.GetAtomicWeightsForModel(mol,\n",
        "                                        SimilarityMaps.GetMorganFingerprint,\n",
        "                                        lambda x : get_pred(x, xgb.predict))\n",
        "    aw = np.array(aw)\n",
        "    top_idx = aw.argsort()[-n:][::-1]\n",
        "    top_idx = [int(x) for x in top_idx]\n",
        "    # set the drawing options\n",
        "    d2d = rdMolDraw2D.MolDraw2DSVG(350,300)\n",
        "    dos = d2d.drawOptions()\n",
        "    dos.atomHighlightsAreCircles = True\n",
        "    dos.fillHighlights=False\n",
        "    # set the highlight color for the top n predicted atoms to red\n",
        "    top_dict = defaultdict(list)\n",
        "    highlight_rads = {}\n",
        "    for t in top_idx:\n",
        "        top_dict[t].append(red)\n",
        "    # set the colors for the top n labeled atoms to red\n",
        "    for a in label_array.argsort()[-n:]:\n",
        "        top_dict[int(a)].append(blue)\n",
        "    # set the radii for the highlight circles\n",
        "    for k,v in top_dict.items():\n",
        "        highlight_rads[k] = 0.6\n",
        "    d2d.DrawMoleculeWithHighlights(mol,\" \",dict(top_dict),{},highlight_rads,{})\n",
        "    d2d.FinishDrawing()\n",
        "    return d2d"
      ],
      "execution_count": 29,
      "outputs": []
    },
    {
      "cell_type": "markdown",
      "metadata": {
        "id": "z3dwBpjkdbzp"
      },
      "source": [
        "output from our debugging function. Correctly predicted atoms are shown as circles that are half red and half blue. Incorrectly predicted atoms are shown as red circles, atoms that are \"missed\" are shown as blue circles."
      ]
    },
    {
      "cell_type": "code",
      "metadata": {
        "colab": {
          "base_uri": "https://localhost:8080/",
          "height": 321
        },
        "id": "LYMu-T6tdcyo",
        "outputId": "2178bb6f-a840-48a4-9c95-111fbff1350a"
      },
      "source": [
        "mistake_row = 3\n",
        "res = debug_row(df_test,mistake_row)\n",
        "SVG(res.GetDrawingText())"
      ],
      "execution_count": 31,
      "outputs": [
        {
          "output_type": "execute_result",
          "data": {
            "text/plain": [
              "<IPython.core.display.SVG object>"
            ],
            "image/svg+xml": "<svg baseProfile=\"full\" height=\"300px\" version=\"1.1\" viewBox=\"0 0 350 300\" width=\"350px\" xml:space=\"preserve\" xmlns=\"http://www.w3.org/2000/svg\" xmlns:rdkit=\"http://www.rdkit.org/xml\" xmlns:xlink=\"http://www.w3.org/1999/xlink\">\n<!-- END OF HEADER -->\n<rect height=\"300\" style=\"opacity:1.0;fill:#FFFFFF;stroke:none\" width=\"350\" x=\"0\" y=\"0\"> </rect>\n<path d=\"M 150.223,207.562 L 148.75,207.625 L 147.289,207.812 L 145.848,208.122 L 144.438,208.554 L 143.071,209.103 L 141.755,209.767 L 140.5,210.54 L 139.315,211.416 L 138.208,212.39 L 137.188,213.454 L 136.262,214.601 L 135.437,215.822 L 134.718,217.109 L 134.111,218.452 L 133.62,219.841 L 133.249,221.268 L 133,222.721 L 132.875,224.189 L 132.875,225.663 L 133,227.132 L 133.249,228.584 L 133.62,230.011 L 134.111,231.4 L 134.718,232.743 L 135.437,234.03 L 136.262,235.251 L 137.188,236.398 L 138.208,237.462 L 139.315,238.436 L 140.5,239.312 L 141.755,240.085 L 143.071,240.749 L 144.438,241.298 L 145.848,241.73 L 147.289,242.04 L 148.75,242.227 L 150.223,242.29\" style=\"fill:none;stroke:#FF0000;stroke-width:8px;stroke-linecap:butt;stroke-linejoin:miter;stroke-opacity:1;\"/>\n<path d=\"M 150.223,242.29 L 151.696,242.227 L 153.158,242.04 L 154.598,241.73 L 156.008,241.298 L 157.375,240.749 L 158.691,240.085 L 159.946,239.312 L 161.131,238.436 L 162.238,237.462 L 163.258,236.398 L 164.184,235.251 L 165.009,234.03 L 165.728,232.743 L 166.335,231.4 L 166.826,230.011 L 167.197,228.584 L 167.446,227.132 L 167.571,225.663 L 167.571,224.189 L 167.446,222.721 L 167.197,221.268 L 166.826,219.841 L 166.335,218.452 L 165.728,217.109 L 165.009,215.822 L 164.184,214.601 L 163.258,213.454 L 162.238,212.39 L 161.131,211.416 L 159.946,210.54 L 158.691,209.767 L 157.375,209.103 L 156.008,208.554 L 154.598,208.122 L 153.158,207.812 L 151.696,207.625 L 150.223,207.562\" style=\"fill:none;stroke:#0000FF;stroke-width:8px;stroke-linecap:butt;stroke-linejoin:miter;stroke-opacity:1;\"/>\n<path d=\"M 145.685,164.389 L 144.213,164.452 L 142.751,164.639 L 141.31,164.95 L 139.901,165.381 L 138.533,165.931 L 137.217,166.594 L 135.962,167.367 L 134.777,168.244 L 133.67,169.217 L 132.651,170.281 L 131.725,171.428 L 130.899,172.649 L 130.181,173.936 L 129.573,175.279 L 129.082,176.669 L 128.711,178.095 L 128.462,179.548 L 128.337,181.016 L 128.337,182.49 L 128.462,183.959 L 128.711,185.412 L 129.082,186.838 L 129.573,188.228 L 130.181,189.571 L 130.899,190.857 L 131.725,192.079 L 132.651,193.225 L 133.67,194.289 L 134.777,195.263 L 135.962,196.14 L 137.217,196.912 L 138.533,197.576 L 139.901,198.126 L 141.31,198.557 L 142.751,198.868 L 144.213,199.055 L 145.685,199.117\" style=\"fill:none;stroke:#FF0000;stroke-width:8px;stroke-linecap:butt;stroke-linejoin:miter;stroke-opacity:1;\"/>\n<path d=\"M 145.685,199.117 L 147.158,199.055 L 148.62,198.868 L 150.061,198.557 L 151.47,198.126 L 152.837,197.576 L 154.154,196.912 L 155.409,196.14 L 156.594,195.263 L 157.7,194.289 L 158.72,193.225 L 159.646,192.079 L 160.471,190.857 L 161.19,189.571 L 161.797,188.228 L 162.288,186.838 L 162.66,185.412 L 162.909,183.959 L 163.034,182.49 L 163.034,181.016 L 162.909,179.548 L 162.66,178.095 L 162.288,176.669 L 161.797,175.279 L 161.19,173.936 L 160.471,172.649 L 159.646,171.428 L 158.72,170.281 L 157.7,169.217 L 156.594,168.244 L 155.409,167.367 L 154.154,166.594 L 152.837,165.931 L 151.47,165.381 L 150.061,164.95 L 148.62,164.639 L 147.158,164.452 L 145.685,164.389\" style=\"fill:none;stroke:#0000FF;stroke-width:8px;stroke-linecap:butt;stroke-linejoin:miter;stroke-opacity:1;\"/>\n<path d=\"M 108.089,142.684 L 106.617,142.747 L 105.155,142.934 L 103.714,143.245 L 102.305,143.676 L 100.937,144.226 L 99.621,144.889 L 98.3659,145.662 L 97.1809,146.539 L 96.0745,147.512 L 95.0547,148.576 L 94.1287,149.723 L 93.3034,150.944 L 92.5846,152.231 L 91.9775,153.574 L 91.4865,154.964 L 91.1151,156.39 L 90.866,157.843 L 90.741,159.311 L 90.741,160.785 L 90.866,162.254 L 91.1151,163.707 L 91.4865,165.133 L 91.9775,166.523 L 92.5846,167.866 L 93.3034,169.152 L 94.1287,170.374 L 95.0547,171.52 L 96.0745,172.584 L 97.1809,173.558 L 98.3659,174.435 L 99.621,175.207 L 100.937,175.871 L 102.305,176.421 L 103.714,176.852 L 105.155,177.163 L 106.617,177.35 L 108.089,177.412\" style=\"fill:none;stroke:#FF0000;stroke-width:8px;stroke-linecap:butt;stroke-linejoin:miter;stroke-opacity:1;\"/>\n<path d=\"M 108.089,177.412 L 109.562,177.35 L 111.024,177.163 L 112.465,176.852 L 113.874,176.421 L 115.242,175.871 L 116.558,175.207 L 117.813,174.435 L 118.998,173.558 L 120.104,172.584 L 121.124,171.52 L 122.05,170.374 L 122.875,169.152 L 123.594,167.866 L 124.201,166.523 L 124.692,165.133 L 125.064,163.707 L 125.313,162.254 L 125.438,160.785 L 125.438,159.311 L 125.313,157.843 L 125.064,156.39 L 124.692,154.964 L 124.201,153.574 L 123.594,152.231 L 122.875,150.944 L 122.05,149.723 L 121.124,148.576 L 120.104,147.512 L 118.998,146.539 L 117.813,145.662 L 116.558,144.889 L 115.242,144.226 L 113.874,143.676 L 112.465,143.245 L 111.024,142.934 L 109.562,142.747 L 108.089,142.684\" style=\"fill:none;stroke:#0000FF;stroke-width:8px;stroke-linecap:butt;stroke-linejoin:miter;stroke-opacity:1;\"/>\n<path d=\"M 108.089,12.4545 L 106.617,12.5171 L 105.155,12.7043 L 103.714,13.0148 L 102.305,13.4464 L 100.937,13.996 L 99.621,14.6595 L 98.3659,15.4323 L 97.1809,16.3087 L 96.0745,17.2825 L 95.0547,18.3466 L 94.1287,19.4933 L 93.3034,20.7145 L 92.5846,22.0012 L 91.9775,23.3443 L 91.4865,24.734 L 91.1151,26.1603 L 90.866,27.613 L 90.741,29.0816 L 90.741,30.5555 L 90.866,32.0241 L 91.1151,33.4768 L 91.4865,34.9031 L 91.9775,36.2928 L 92.5846,37.6359 L 93.3034,38.9226 L 94.1287,40.1437 L 95.0547,41.2905 L 96.0745,42.3546 L 97.1809,43.3283 L 98.3659,44.2048 L 99.621,44.9775 L 100.937,45.6411 L 102.305,46.1906 L 103.714,46.6222 L 105.155,46.9327 L 106.617,47.12 L 108.089,47.1825\" style=\"fill:none;stroke:#FF0000;stroke-width:8px;stroke-linecap:butt;stroke-linejoin:miter;stroke-opacity:1;\"/>\n<path d=\"M 108.089,47.1825 L 109.562,47.12 L 111.024,46.9327 L 112.465,46.6222 L 113.874,46.1906 L 115.242,45.6411 L 116.558,44.9775 L 117.813,44.2048 L 118.998,43.3283 L 120.104,42.3546 L 121.124,41.2905 L 122.05,40.1437 L 122.875,38.9226 L 123.594,37.6359 L 124.201,36.2928 L 124.692,34.9031 L 125.064,33.4768 L 125.313,32.0241 L 125.438,30.5555 L 125.438,29.0816 L 125.313,27.613 L 125.064,26.1603 L 124.692,24.734 L 124.201,23.3443 L 123.594,22.0012 L 122.875,20.7145 L 122.05,19.4933 L 121.124,18.3466 L 120.104,17.2825 L 118.998,16.3087 L 117.813,15.4323 L 116.558,14.6595 L 115.242,13.996 L 113.874,13.4464 L 112.465,13.0148 L 111.024,12.7043 L 109.562,12.5171 L 108.089,12.4545\" style=\"fill:none;stroke:#0000FF;stroke-width:8px;stroke-linecap:butt;stroke-linejoin:miter;stroke-opacity:1;\"/>\n<path class=\"bond-0\" d=\"M 279.504,233.952 L 257.799,271.545\" style=\"fill:none;fill-rule:evenodd;stroke:#000000;stroke-width:2.0px;stroke-linecap:butt;stroke-linejoin:miter;stroke-opacity:1\"/>\n<path class=\"bond-15\" d=\"M 279.504,233.952 L 257.799,196.359\" style=\"fill:none;fill-rule:evenodd;stroke:#000000;stroke-width:2.0px;stroke-linecap:butt;stroke-linejoin:miter;stroke-opacity:1\"/>\n<path class=\"bond-15\" d=\"M 268.729,232.655 L 253.536,206.339\" style=\"fill:none;fill-rule:evenodd;stroke:#000000;stroke-width:2.0px;stroke-linecap:butt;stroke-linejoin:miter;stroke-opacity:1\"/>\n<path class=\"bond-1\" d=\"M 257.799,271.545 L 214.389,271.545\" style=\"fill:none;fill-rule:evenodd;stroke:#000000;stroke-width:2.0px;stroke-linecap:butt;stroke-linejoin:miter;stroke-opacity:1\"/>\n<path class=\"bond-1\" d=\"M 251.287,262.863 L 220.9,262.863\" style=\"fill:none;fill-rule:evenodd;stroke:#000000;stroke-width:2.0px;stroke-linecap:butt;stroke-linejoin:miter;stroke-opacity:1\"/>\n<path class=\"bond-2\" d=\"M 214.389,271.545 L 192.684,233.952\" style=\"fill:none;fill-rule:evenodd;stroke:#000000;stroke-width:2.0px;stroke-linecap:butt;stroke-linejoin:miter;stroke-opacity:1\"/>\n<path class=\"bond-3\" d=\"M 192.684,233.952 L 174.327,230.05\" style=\"fill:none;fill-rule:evenodd;stroke:#000000;stroke-width:2.0px;stroke-linecap:butt;stroke-linejoin:miter;stroke-opacity:1\"/>\n<path class=\"bond-3\" d=\"M 174.327,230.05 L 155.971,226.148\" style=\"fill:none;fill-rule:evenodd;stroke:#0000FF;stroke-width:2.0px;stroke-linecap:butt;stroke-linejoin:miter;stroke-opacity:1\"/>\n<path class=\"bond-3\" d=\"M 188.982,224.29 L 176.132,221.558\" style=\"fill:none;fill-rule:evenodd;stroke:#000000;stroke-width:2.0px;stroke-linecap:butt;stroke-linejoin:miter;stroke-opacity:1\"/>\n<path class=\"bond-3\" d=\"M 176.132,221.558 L 163.283,218.826\" style=\"fill:none;fill-rule:evenodd;stroke:#0000FF;stroke-width:2.0px;stroke-linecap:butt;stroke-linejoin:miter;stroke-opacity:1\"/>\n<path class=\"bond-16\" d=\"M 192.684,233.952 L 214.389,196.359\" style=\"fill:none;fill-rule:evenodd;stroke:#000000;stroke-width:2.0px;stroke-linecap:butt;stroke-linejoin:miter;stroke-opacity:1\"/>\n<path class=\"bond-4\" d=\"M 149.463,217.694 L 146.426,188.804\" style=\"fill:none;fill-rule:evenodd;stroke:#0000FF;stroke-width:2.0px;stroke-linecap:butt;stroke-linejoin:miter;stroke-opacity:1\"/>\n<path class=\"bond-5\" d=\"M 139.938,178.435 L 113.671,163.271\" style=\"fill:none;fill-rule:evenodd;stroke:#0000FF;stroke-width:2.0px;stroke-linecap:butt;stroke-linejoin:miter;stroke-opacity:1\"/>\n<path class=\"bond-12\" d=\"M 151.433,179.194 L 168.387,171.646\" style=\"fill:none;fill-rule:evenodd;stroke:#0000FF;stroke-width:2.0px;stroke-linecap:butt;stroke-linejoin:miter;stroke-opacity:1\"/>\n<path class=\"bond-12\" d=\"M 168.387,171.646 L 185.342,164.097\" style=\"fill:none;fill-rule:evenodd;stroke:#000000;stroke-width:2.0px;stroke-linecap:butt;stroke-linejoin:miter;stroke-opacity:1\"/>\n<path class=\"bond-6\" d=\"M 108.089,152.816 L 108.089,134.727\" style=\"fill:none;fill-rule:evenodd;stroke:#0000FF;stroke-width:2.0px;stroke-linecap:butt;stroke-linejoin:miter;stroke-opacity:1\"/>\n<path class=\"bond-6\" d=\"M 108.089,134.727 L 108.089,116.638\" style=\"fill:none;fill-rule:evenodd;stroke:#000000;stroke-width:2.0px;stroke-linecap:butt;stroke-linejoin:miter;stroke-opacity:1\"/>\n<path class=\"bond-7\" d=\"M 108.089,116.638 L 145.685,94.9335\" style=\"fill:none;fill-rule:evenodd;stroke:#000000;stroke-width:2.0px;stroke-linecap:butt;stroke-linejoin:miter;stroke-opacity:1\"/>\n<path class=\"bond-7\" d=\"M 109.388,105.864 L 135.705,90.6703\" style=\"fill:none;fill-rule:evenodd;stroke:#000000;stroke-width:2.0px;stroke-linecap:butt;stroke-linejoin:miter;stroke-opacity:1\"/>\n<path class=\"bond-17\" d=\"M 108.089,116.638 L 70.4963,94.9335\" style=\"fill:none;fill-rule:evenodd;stroke:#000000;stroke-width:2.0px;stroke-linecap:butt;stroke-linejoin:miter;stroke-opacity:1\"/>\n<path class=\"bond-8\" d=\"M 145.685,94.9335 L 145.685,51.5235\" style=\"fill:none;fill-rule:evenodd;stroke:#000000;stroke-width:2.0px;stroke-linecap:butt;stroke-linejoin:miter;stroke-opacity:1\"/>\n<path class=\"bond-9\" d=\"M 145.685,51.5235 L 129.761,42.3301\" style=\"fill:none;fill-rule:evenodd;stroke:#000000;stroke-width:2.0px;stroke-linecap:butt;stroke-linejoin:miter;stroke-opacity:1\"/>\n<path class=\"bond-9\" d=\"M 129.761,42.3301 L 113.837,33.1367\" style=\"fill:none;fill-rule:evenodd;stroke:#0000FF;stroke-width:2.0px;stroke-linecap:butt;stroke-linejoin:miter;stroke-opacity:1\"/>\n<path class=\"bond-9\" d=\"M 136.567,56.2844 L 125.42,49.849\" style=\"fill:none;fill-rule:evenodd;stroke:#000000;stroke-width:2.0px;stroke-linecap:butt;stroke-linejoin:miter;stroke-opacity:1\"/>\n<path class=\"bond-9\" d=\"M 125.42,49.849 L 114.273,43.4136\" style=\"fill:none;fill-rule:evenodd;stroke:#0000FF;stroke-width:2.0px;stroke-linecap:butt;stroke-linejoin:miter;stroke-opacity:1\"/>\n<path class=\"bond-10\" d=\"M 102.342,33.1369 L 86.4191,42.3302\" style=\"fill:none;fill-rule:evenodd;stroke:#0000FF;stroke-width:2.0px;stroke-linecap:butt;stroke-linejoin:miter;stroke-opacity:1\"/>\n<path class=\"bond-10\" d=\"M 86.4191,42.3302 L 70.4963,51.5235\" style=\"fill:none;fill-rule:evenodd;stroke:#000000;stroke-width:2.0px;stroke-linecap:butt;stroke-linejoin:miter;stroke-opacity:1\"/>\n<path class=\"bond-11\" d=\"M 70.4963,51.5235 L 70.4963,94.9335\" style=\"fill:none;fill-rule:evenodd;stroke:#000000;stroke-width:2.0px;stroke-linecap:butt;stroke-linejoin:miter;stroke-opacity:1\"/>\n<path class=\"bond-11\" d=\"M 79.1783,58.035 L 79.1783,88.422\" style=\"fill:none;fill-rule:evenodd;stroke:#000000;stroke-width:2.0px;stroke-linecap:butt;stroke-linejoin:miter;stroke-opacity:1\"/>\n<path class=\"bond-13\" d=\"M 185.342,164.097 L 214.389,196.359\" style=\"fill:none;fill-rule:evenodd;stroke:#000000;stroke-width:2.0px;stroke-linecap:butt;stroke-linejoin:miter;stroke-opacity:1\"/>\n<path class=\"bond-13\" d=\"M 183.247,174.746 L 203.58,197.329\" style=\"fill:none;fill-rule:evenodd;stroke:#000000;stroke-width:2.0px;stroke-linecap:butt;stroke-linejoin:miter;stroke-opacity:1\"/>\n<path class=\"bond-14\" d=\"M 214.389,196.359 L 257.799,196.359\" style=\"fill:none;fill-rule:evenodd;stroke:#000000;stroke-width:2.0px;stroke-linecap:butt;stroke-linejoin:miter;stroke-opacity:1\"/>\n<path class=\"atom-4\" d=\"M 147.506 218.779 L 151.534 225.291 Q 151.933 225.933, 152.576 227.097 Q 153.218 228.26, 153.253 228.329 L 153.253 218.779 L 154.885 218.779 L 154.885 231.073 L 153.201 231.073 L 148.877 223.954 Q 148.374 223.12, 147.835 222.165 Q 147.315 221.21, 147.158 220.915 L 147.158 231.073 L 145.561 231.073 L 145.561 218.779 L 147.506 218.779 \" fill=\"#000000\"/>\n<path class=\"atom-5\" d=\"M 142.968 175.607 L 146.996 182.118 Q 147.396 182.761, 148.038 183.924 Q 148.681 185.087, 148.715 185.157 L 148.715 175.607 L 150.347 175.607 L 150.347 187.9 L 148.663 187.9 L 144.34 180.781 Q 143.836 179.948, 143.298 178.993 Q 142.777 178.038, 142.621 177.742 L 142.621 187.9 L 141.023 187.9 L 141.023 175.607 L 142.968 175.607 \" fill=\"#000000\"/>\n<path class=\"atom-6\" d=\"M 92.3662 153.902 L 94.0332 153.902 L 94.0332 159.128 L 100.319 159.128 L 100.319 153.902 L 101.986 153.902 L 101.986 166.195 L 100.319 166.195 L 100.319 160.517 L 94.0332 160.517 L 94.0332 166.195 L 92.3662 166.195 L 92.3662 153.902 \" fill=\"#000000\"/>\n<path class=\"atom-6\" d=\"M 105.372 153.902 L 109.4 160.413 Q 109.8 161.056, 110.442 162.219 Q 111.085 163.382, 111.119 163.452 L 111.119 153.902 L 112.752 153.902 L 112.752 166.195 L 111.067 166.195 L 106.744 159.076 Q 106.24 158.243, 105.702 157.288 Q 105.181 156.333, 105.025 156.037 L 105.025 166.195 L 103.427 166.195 L 103.427 153.902 L 105.372 153.902 \" fill=\"#000000\"/>\n<path class=\"atom-10\" d=\"M 105.372 23.6717 L 109.4 30.1832 Q 109.8 30.8256, 110.442 31.989 Q 111.085 33.1524, 111.119 33.2219 L 111.119 23.6717 L 112.752 23.6717 L 112.752 35.9654 L 111.067 35.9654 L 106.744 28.8461 Q 106.24 28.0127, 105.702 27.0577 Q 105.181 26.1026, 105.025 25.8074 L 105.025 35.9654 L 103.427 35.9654 L 103.427 23.6717 L 105.372 23.6717 \" fill=\"#000000\"/>\n<path d=\"\" fill=\"#000000\"/>\n</svg>"
          },
          "metadata": {},
          "execution_count": 31
        }
      ]
    }
  ]
}